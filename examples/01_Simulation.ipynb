{
 "cells": [
  {
   "cell_type": "markdown",
   "metadata": {},
   "source": [
    "# 1. Simulating with Prognostics Models\n",
    "\n",
    "One of the most basic of functions for models is simulation. Simulation is the process of predicting the evolution of [system's state](https://nasa.github.io/progpy/glossary.html#term-state) with time. Simulation is the foundation of prediction (see 9. Prediction). Unlike full prediction, simulation does not include uncertainty in the state and other product (e.g., [output](https://nasa.github.io/progpy/glossary.html#term-output)) representation.\n",
    "\n",
    "The first section introduces simulating to a specific time (e.g., 3 seconds), using the `simulate_to` method. The second section introduces the concept of simulating until a threshold is met rather than a defined time, using `simulate_to_threshold`. The third section makes simulation more concrete with the introduction of [future loading](https://nasa.github.io/progpy/glossary.html#term-future-load). The sections following these introduce various advanced features that can be used in simulation.\n",
    "\n",
    "Note: Before running this example make sure you have ProgPy installed and up to date."
   ]
  },
  {
   "cell_type": "markdown",
   "metadata": {},
   "source": [
    "## Table of Contents\n",
    "* [Basic Simulation to a Time](#basic-simulation-to-a-time)\n",
    "* [Simulating to Threshold](#simulating-to-threshold)\n",
    "* [Future Loading](#future-loading)\n",
    "    * [Piecewise Load](#piecewise-load)\n",
    "    * [Moving Average](#moving-average)\n",
    "    * [Gaussian Noise in Loading](#gaussian-noise-in-loading)\n",
    "    * [Custom Load Profiles](#custom-load-profiles)\n",
    "* [Step Size](#step-size)\n",
    "    * [Basic Step Size](#basic-step-size)\n",
    "    * [Dynamic Step Size](#dynamic-step-size)\n",
    "    * [Custom Step Size](#custom-step-size)\n",
    "* [Parameters](#parameters)\n",
    "* [Noise](#noise)\n",
    "* [Vectorized Simulation](#vectorized-simulation)\n",
    "* [Configuring Simulation](#configuring-simulation)"
   ]
  },
  {
   "cell_type": "markdown",
   "metadata": {},
   "source": [
    "<a id=\"basic-simulation-to-a-time\"></a>\n",
    "\n",
    "----------\n",
    "\n",
    "## Basic Simulation to a Time "
   ]
  },
  {
   "cell_type": "markdown",
   "metadata": {},
   "source": [
    "Let's go through a basic example simulating a model to a specific point in time. In this case we are using the ThrownObject model. ThrownObject is a basic model of an object being thrown up into the air (with resistance) and returning to the ground.\n",
    "\n",
    "First we import the model from ProgPy's models subpackage (see 3. Included Models) and create a model instance."
   ]
  },
  {
   "cell_type": "code",
   "execution_count": null,
   "metadata": {},
   "outputs": [],
   "source": [
    "from progpy.models import ThrownObject\n",
    "m = ThrownObject()"
   ]
  },
  {
   "cell_type": "markdown",
   "metadata": {},
   "source": [
    "Now we simulate this model for three seconds. To do this we use the [`simulate_to`](https://nasa.github.io/progpy/api_ref/prog_models/PrognosticModel.html#prog_models.PrognosticsModel.simulate_to) method."
   ]
  },
  {
   "cell_type": "code",
   "execution_count": null,
   "metadata": {},
   "outputs": [],
   "source": [
    "results = m.simulate_to(3)"
   ]
  },
  {
   "cell_type": "markdown",
   "metadata": {},
   "source": [
    "It's that simple! We've simulated the model forward three seconds. Let's look in a little more detail at the returned results. \n",
    "\n",
    "Simulation results consists of 5 different types of information, described below:\n",
    "* **times**: the time corresponding to each value.\n",
    "* **[inputs](https://nasa.github.io/progpy/glossary.html#term-input)**: Control or loading applied to the system being modeled (e.g., current drawn from a battery). Input is frequently denoted by u.\n",
    "* **[states](https://nasa.github.io/progpy/glossary.html#term-state)**: Internal variables (typically hidden states) used to represent the state of the system. Can be same as inputs or outputs but do not have to be. State is frequently denoted as `x`.\n",
    "* **[outputs](https://nasa.github.io/progpy/glossary.html#term-output)**: Measured sensor values from a system (e.g., voltage and temperature of a battery). Can be estimated from the system state. Output is frequently denoted by `z`.\n",
    "* **[event_states](https://nasa.github.io/progpy/glossary.html#term-event-state)**: Progress towards [event](https://nasa.github.io/progpy/glossary.html#term-event) occurring. Defined as a number where an event state of 0 indicates the event has occurred and 1 indicates no progress towards the event (i.e., fully healthy operation for a failure event). For a gradually occurring event (e.g., discharge) the number will progress from 1 to 0 as the event nears. In prognostics, event state is frequently called “State of Health”.\n",
    "\n",
    "In this case, times are the start and beginning of the simulation ([0, 3]), since we have not yet told the simulator to save intermediate times. The ThrownObject model doesn't have any way of controlling or loading the object, so there are no inputs. The states are position (`x`) and velocity (`v`). This model assumes that you can measure position, so the outputs are just position (`x`). The two events for this model are `falling` (i.e., if the object is falling towards the earth) and `impact` (i.e., the object has impacted the ground). For a real prognostic model, events might be failure modes or warning thresholds."
   ]
  },
  {
   "cell_type": "markdown",
   "metadata": {},
   "source": [
    "Now let's inspect the results. First, let's plot the outputs (position)"
   ]
  },
  {
   "cell_type": "code",
   "execution_count": null,
   "metadata": {},
   "outputs": [],
   "source": [
    "fig = results.outputs.plot()"
   ]
  },
  {
   "cell_type": "markdown",
   "metadata": {},
   "source": [
    "This is a model of an object thrown in the air, so we generally expect its path to follow a parabola, but what we see above is linear. This is because there are only two points, the start (0s) and the end (3s). To see the parabola we need more points. This is where `save_freq` and `save_pts` come into play. \n",
    "\n",
    "`save_freq` is an argument in simulation that specifies a frequency at which you would like to save the results (e.g., 1 seconds), while `save_pts` is used to specify specific times that you would like to save the results (e.g., [1.5, 2.5, 3, 5] seconds).\n",
    "\n",
    "Now let's repeat the simulation above with a save frequency and plot the results."
   ]
  },
  {
   "cell_type": "code",
   "execution_count": null,
   "metadata": {},
   "outputs": [],
   "source": [
    "results = m.simulate_to(3, save_freq=0.5)\n",
    "fig = results.outputs.plot(ylabel='Position (m)')"
   ]
  },
  {
   "cell_type": "markdown",
   "metadata": {},
   "source": [
    "Now we can see the start of the parabola path we expected. We dont see the full parabola because we stopped simulation at 3 seconds.\n",
    "\n",
    "If you look at results.times, you can see that the results were saved every 0.5 seconds during simulation"
   ]
  },
  {
   "cell_type": "code",
   "execution_count": null,
   "metadata": {},
   "outputs": [],
   "source": [
    "print(results.times)"
   ]
  },
  {
   "cell_type": "markdown",
   "metadata": {},
   "source": [
    "Next, let's look at the event_states (i.e., `falling` and `impact`)."
   ]
  },
  {
   "cell_type": "code",
   "execution_count": null,
   "metadata": {},
   "outputs": [],
   "source": [
    "fig = results.event_states.plot()"
   ]
  },
  {
   "cell_type": "markdown",
   "metadata": {},
   "source": [
    "Here we see that the `falling` event state decreased linerally with time, and was approaching 0. This shows that it was nearly falling when we stopped simulation. The `impact` event state remained at 1, indicating that we had not made any progress towards impact. With this model, `impact` event state only starts decreasing as the object falls. "
   ]
  },
  {
   "cell_type": "markdown",
   "metadata": {},
   "source": [
    "Finally, let's take a look at model states. In this case the two states are position (`x`) and velocity (`v`)."
   ]
  },
  {
   "cell_type": "code",
   "execution_count": null,
   "metadata": {},
   "outputs": [],
   "source": [
    "fig = results.states.plot()"
   ]
  },
  {
   "cell_type": "markdown",
   "metadata": {},
   "source": [
    "Position will match the output exactly and velocity (`v`) decreases nearly linerally with time due to the constant pull of gravity. The slight non-linerality is due to the effects of drag."
   ]
  },
  {
   "cell_type": "markdown",
   "metadata": {},
   "source": [
    "This is a basic example of simulating to a set time. This is useful information for inspecting or analyzing the behavior of a model or the degredation of a system. There are many useful features that allow for complex simulation, described in the upcoming sections. \n",
    "\n",
    "Note that this is an example problem. In most cases, the system will have inputs, in which case simulation will require future loading (see Future Loading section, below), and simulation will not be until a time, but until a threshold is met. Simulating to a threshold will be described in the next section."
   ]
  },
  {
   "cell_type": "markdown",
   "metadata": {},
   "source": [
    "<a id=\"simulating-to-threshold\"></a>\n",
    "\n",
    "----------\n",
    "\n",
    "## Simulating to Threshold"
   ]
  },
  {
   "cell_type": "markdown",
   "metadata": {},
   "source": [
    "In the first section we introduced simulating to a set time. For most applications, users are not interested in the system evolution over a certain time period, but instead in simulating to some event of interest.\n",
    "\n",
    "In this section we will introduce the concept of simulating until an event occurs. This section builds upon the concepts introduced in the previous section.\n",
    "\n",
    "Just like in the previous section, we will start by preparing the ThrownObject model. "
   ]
  },
  {
   "cell_type": "code",
   "execution_count": null,
   "metadata": {},
   "outputs": [],
   "source": [
    "from progpy.models import ThrownObject\n",
    "m = ThrownObject()"
   ]
  },
  {
   "cell_type": "markdown",
   "metadata": {},
   "source": [
    "If you recall, the ThrownObject model is of an object thrown into the air. The model has two events, `impact` and `falling`. In real prognostic models, these events will likely correspond with some failure, fault, or warning threshold. That said, events can be any event of interest that a user would like to predict. \n",
    "\n",
    "Now let's repeat the simulation from the previous example, this time simulating until an event has occured by using the [`simulate_to_threshold`](https://nasa.github.io/progpy/api_ref/prog_models/PrognosticModel.html#prog_models.PrognosticsModel.simulate_to_threshold) method."
   ]
  },
  {
   "cell_type": "code",
   "execution_count": null,
   "metadata": {},
   "outputs": [],
   "source": [
    "results = m.simulate_to_threshold(save_freq=0.5)\n",
    "fig = results.outputs.plot(ylabel='Position (m)')\n",
    "fig = results.event_states.plot()"
   ]
  },
  {
   "cell_type": "markdown",
   "metadata": {},
   "source": [
    "Note that simulation continued beyond the 3 seconds used in the first section. Instead simulation stopped at 4 seconds, at which point the `falling` event state reached 0 and the position (`x`) reached the apogee of its path."
   ]
  },
  {
   "cell_type": "markdown",
   "metadata": {},
   "source": [
    "By default, `simulate_to_threshold` simulates until the first event occurs. In this case, that's `falling` (i.e., when the object begins falling). For this model `falling` will always occur before `impact`, but for many models you won't have such a strict ordering of events. \n",
    "\n",
    "For users interested in when a specific event is reached, you can indicate which event(s) you'd like to simulate to using the `events` argument. For example,"
   ]
  },
  {
   "cell_type": "code",
   "execution_count": null,
   "metadata": {},
   "outputs": [],
   "source": [
    "results = m.simulate_to_threshold(save_freq=0.5, events='impact')\n",
    "fig = results.outputs.plot(ylabel='Position (m)')\n",
    "fig = results.event_states.plot()"
   ]
  },
  {
   "cell_type": "markdown",
   "metadata": {},
   "source": [
    "Now the model simulated past the `falling` event until the `impact` event occurred. `events` accepts a single event, or a list of events, so for models with many events you can specify a list of events where any will stop simulation."
   ]
  },
  {
   "cell_type": "markdown",
   "metadata": {},
   "source": [
    "Frequently users are interested in simulating to a threshold, only if it occurs within some horizon of interest, like a mission time or planning horizon. This is accomplished with the `horizon` keyword argument. \n",
    "\n",
    "For example, if we were only interested in events occuring in the next 7 seconds we could set `horizon` to 7, like below:"
   ]
  },
  {
   "cell_type": "code",
   "execution_count": null,
   "metadata": {},
   "outputs": [],
   "source": [
    "results = m.simulate_to_threshold(save_freq=0.5, events='impact', horizon=7)\n",
    "fig = results.outputs.plot(ylabel='Position (m)')\n",
    "fig = results.event_states.plot()"
   ]
  },
  {
   "cell_type": "markdown",
   "metadata": {},
   "source": [
    "Notice that now simulation stopped at 7 seconds, even though the event had not yet occured. If we use a horizon after the event, like 10 seconds, then simulation stops at the event."
   ]
  },
  {
   "cell_type": "code",
   "execution_count": null,
   "metadata": {},
   "outputs": [],
   "source": [
    "results = m.simulate_to_threshold(save_freq=0.5, events='impact', horizon=10)\n",
    "fig = results.outputs.plot(ylabel='Position (m)')\n",
    "fig = results.event_states.plot()"
   ]
  },
  {
   "cell_type": "markdown",
   "metadata": {},
   "source": [
    "The 7 and 10 second horizon is used as an example. In most cases, the simulation horizon will be much longer. For example, you can imagine a user who's interested in prognostics for a one hour drone flight might set the horizon to a little over an hour. A user who has a month-long maintenance scheduling window might chose a horizon of one month. \n",
    "\n",
    "It is good practice to include a horizon with most simulations to prevent simulations continuing indefinitely for the case where the event never happens."
   ]
  },
  {
   "cell_type": "markdown",
   "metadata": {},
   "source": [
    "One final note: you can also use the print and progress options to track progress during long simulations, like below:"
   ]
  },
  {
   "cell_type": "code",
   "execution_count": null,
   "metadata": {},
   "outputs": [],
   "source": [
    "results = m.simulate_to_threshold(save_freq=0.5, events='impact', print=True, progress=True)"
   ]
  },
  {
   "cell_type": "markdown",
   "metadata": {},
   "source": [
    "For most users running this in Jupyter notebook, the output will be truncated, but it gives an idea of what would be shown when selecting these options."
   ]
  },
  {
   "cell_type": "markdown",
   "metadata": {},
   "source": [
    "In this example we specified events='impact' to indicate that simulation should stop when the specified event 'impact' is met. By default, the simulation will stop when the first of the specified events occur. If you dont specify any events, all model events will be included (in this case ['falling', 'impact']). This means that without specifying events, execution would have ended early, when the object starts falling, like below:"
   ]
  },
  {
   "cell_type": "code",
   "execution_count": null,
   "metadata": {},
   "outputs": [],
   "source": [
    "results = m.simulate_to_threshold(save_freq=0.5, dt=0.1)\n",
    "print('Last timestep: ', results.times[-1])"
   ]
  },
  {
   "cell_type": "markdown",
   "metadata": {},
   "source": [
    "Note that simulation stopped at around 3.8seconds, about when the object starts falling. \n",
    "\n",
    "Alternately, if we would like to execute until all events have occurred we can use the `event_strategy` argument, like below:"
   ]
  },
  {
   "cell_type": "code",
   "execution_count": null,
   "metadata": {},
   "outputs": [],
   "source": [
    "results = m.simulate_to_threshold(save_freq=0.5, dt=0.1, event_strategy='all')\n",
    "print('Last timestep: ', results.times[-1])"
   ]
  },
  {
   "cell_type": "markdown",
   "metadata": {},
   "source": [
    "Not the simulation stopped at around 7.9 seconds, when the last of the events occured ('impact')"
   ]
  },
  {
   "cell_type": "markdown",
   "metadata": {},
   "source": [
    "This is a basic example of simulating to an event. However, this is still just an example. Most models will have some form of input or loading. Simulating these models is described in the following section. The remainder of the sections go through various features for customizing simulation further."
   ]
  },
  {
   "cell_type": "markdown",
   "metadata": {},
   "source": [
    "<a id=\"future-loading\"></a>\n",
    "\n",
    "----------\n",
    "\n",
    "## Future Loading"
   ]
  },
  {
   "cell_type": "markdown",
   "metadata": {},
   "source": [
    "The previous examples feature a simple ThrownObject model, which does not have any inputs. Unlike ThrownObject, most prognostics models have some sort of [input](https://nasa.github.io/progpy/glossary.html#term-input). The input is some sort of control or loading applied to the system being modeled. In this section we will describe how to simulate a model which features an input.\n",
    "\n",
    "In this example we will be using the BatteryCircuit model from the models subpackage (see 3. Included Models). This is a simple battery discharge model where the battery is represented by an equivalent circuit.\n",
    "\n",
    "Like the past examples, we start by importing and creating the model."
   ]
  },
  {
   "cell_type": "code",
   "execution_count": null,
   "metadata": {},
   "outputs": [],
   "source": [
    "from progpy.models import BatteryCircuit\n",
    "m = BatteryCircuit()"
   ]
  },
  {
   "cell_type": "markdown",
   "metadata": {},
   "source": [
    "You can see the battery's inputs, states, and outputs (described above) by accessing these attributes."
   ]
  },
  {
   "cell_type": "code",
   "execution_count": null,
   "metadata": {},
   "outputs": [],
   "source": [
    "print('outputs:', m.outputs)\n",
    "print('inputs:', m.inputs)"
   ]
  },
  {
   "cell_type": "markdown",
   "metadata": {},
   "source": [
    "Consulting the [model documentation](https://nasa.github.io/progpy/api_ref/prog_models/IncludedModels.html#prog_models.models.BatteryCircuit), we see that the outputs (i.e., measurable values) of the model are temperature (`t`) and voltage (`v`). The model's input is the current (`i`) drawn from the battery.\n",
    "\n",
    "If we try to simulate as we do above (without specifying loading), it wouldn't work because the battery discharge is a function of the current (`i`) drawn from the battery. Simulation for a model like this requires that we define the future load. "
   ]
  },
  {
   "cell_type": "markdown",
   "metadata": {},
   "source": [
    "<a id=\"piecewise-load\"></a>\n",
    "\n",
    "----------\n",
    "\n",
    "### Piecewise Load"
   ]
  },
  {
   "cell_type": "markdown",
   "metadata": {},
   "source": [
    "For the first example, we define a piecewise loading profile using the `progpy.loading.Piecewise` class. This is one of the most common loading profiles. First we import the class from the loading subpackage"
   ]
  },
  {
   "cell_type": "code",
   "execution_count": null,
   "metadata": {},
   "outputs": [],
   "source": [
    "from progpy.loading import Piecewise"
   ]
  },
  {
   "cell_type": "markdown",
   "metadata": {},
   "source": [
    "Next, we define a loading profile. Piecewise loader takes 3 arguments: 1. the model InputContainer, 2. times and 3. loads. Each of these are explained in more detail below.\n",
    "\n",
    "The model input container is a class for representing the input for a model. It's a class attribute for every model, and is specific to that model. It can be found at m.InputContainer. For example,"
   ]
  },
  {
   "cell_type": "code",
   "execution_count": null,
   "metadata": {},
   "outputs": [],
   "source": [
    "m.InputContainer"
   ]
  },
  {
   "cell_type": "markdown",
   "metadata": {},
   "source": [
    "InputContainers are initialized with either a dictionary or a column vector, for example:"
   ]
  },
  {
   "cell_type": "code",
   "execution_count": null,
   "metadata": {},
   "outputs": [],
   "source": [
    "print(m.InputContainer({'i': 3}))\n",
    "import numpy as np\n",
    "print(m.InputContainer(np.vstack((2.3, ))))"
   ]
  },
  {
   "cell_type": "markdown",
   "metadata": {},
   "source": [
    "The second and third arguments for the loading profile are times and loads. Together, the 'times' and 'loads' arguments specify what load is applied to the system at what times throughout simulation. The values in 'times' specify the ending time for each load. For example, if times were [5, 7, 10], then the first load would apply until t=5, then the second load would apply for 2 seconds, following by the third load for 3 more seconds. \n",
    "\n",
    "Loads are a dictionary of arrays, where the keys of the dictionary are the inputs to the model (for a battery, just current `i`), and the values in the array are the value at each time in times. If the loads array is one longer than times, then the last value is the \"default load\", i.e., the load that will be applied after the last time has passed.\n",
    "\n",
    "For example, we might define this load profile for our battery."
   ]
  },
  {
   "cell_type": "code",
   "execution_count": null,
   "metadata": {},
   "outputs": [],
   "source": [
    "loading = Piecewise(\n",
    "        InputContainer=m.InputContainer,\n",
    "        times=[600, 900, 1800, 3000],\n",
    "        values={'i': [2, 1, 4, 2, 3]})"
   ]
  },
  {
   "cell_type": "markdown",
   "metadata": {},
   "source": [
    "In this case, the current drawn (`i`) is 2 amps until t is 600 seconds, then it is 1 for the next 300 seconds (until 900 seconds), etc. The \"default load\" is 3, meaning that after the last time has passed (3000 seconds) a current of 3 will be drawn. \n",
    "\n",
    "Now that we have this load profile, let's run a simulation with our model"
   ]
  },
  {
   "cell_type": "code",
   "execution_count": null,
   "metadata": {},
   "outputs": [],
   "source": [
    "results = m.simulate_to_threshold(loading, save_freq=100)"
   ]
  },
  {
   "cell_type": "markdown",
   "metadata": {},
   "source": [
    "Let's take a look at the inputs to the model"
   ]
  },
  {
   "cell_type": "code",
   "execution_count": null,
   "metadata": {},
   "outputs": [],
   "source": [
    "fig = results.inputs.plot(ylabel=\"Current Draw (amps)\")"
   ]
  },
  {
   "cell_type": "markdown",
   "metadata": {},
   "source": [
    "See above that the load profile is piecewise, matching the profile we defined above.\n",
    "\n",
    "Plotting the outputs, you can see jumps in the voltage levels as the current changes."
   ]
  },
  {
   "cell_type": "code",
   "execution_count": null,
   "metadata": {},
   "outputs": [],
   "source": [
    "fig = results.outputs.plot(compact=False)"
   ]
  },
  {
   "cell_type": "markdown",
   "metadata": {},
   "source": [
    "In this example we simulated to threshold, loading the system using a simple piecewise load profile. This is the most common load profile and will probably work for most cases."
   ]
  },
  {
   "cell_type": "markdown",
   "metadata": {},
   "source": [
    "<a id=\"moving-average\"></a>\n",
    "\n",
    "----------\n",
    "\n",
    "### Moving Average"
   ]
  },
  {
   "cell_type": "markdown",
   "metadata": {},
   "source": [
    "Another common loading scheme is the moving-average load. This loading scheme assumes that the load will continue like it's seen in the past. This is useful when you don't know the exact load, but you expect it to be consistent.\n",
    "\n",
    "Like with Piecewise loading, the first step it to import the loading class. In this case, `progpy.loading.MovingAverage`"
   ]
  },
  {
   "cell_type": "code",
   "execution_count": null,
   "metadata": {},
   "outputs": [],
   "source": [
    "from progpy.loading import MovingAverage"
   ]
  },
  {
   "cell_type": "markdown",
   "metadata": {},
   "source": [
    "Next we create the moving average loading object, passing in the InputContainer"
   ]
  },
  {
   "cell_type": "code",
   "execution_count": null,
   "metadata": {},
   "outputs": [],
   "source": [
    "loading = MovingAverage(m.InputContainer)"
   ]
  },
  {
   "cell_type": "markdown",
   "metadata": {},
   "source": [
    "The moving average load estimator requires an additional step, sending the observed load. This is done using the add_load method. Let's load it up with some observed current draws. "
   ]
  },
  {
   "cell_type": "code",
   "execution_count": null,
   "metadata": {},
   "outputs": [],
   "source": [
    "measured_loads = [4, 4.5, 4.0, 4, 2.1, 1.8, 1.99, 2.0, 2.01, 1.89, 1.92, 2.01, 2.1, 2.2]\n",
    "    \n",
    "for load in measured_loads:\n",
    "    loading.add_load({'i': load})"
   ]
  },
  {
   "cell_type": "markdown",
   "metadata": {},
   "source": [
    "In practice the add_load method should be called whenever there's new input (i.e., load) information. The MovingAverage load estimator averages over a window of elements, configurable at construction using the window argument (e.g., MovingAverage(m.InputContainer, window=12))\n",
    "\n",
    "Now the configured load estimator can be used in simulation. "
   ]
  },
  {
   "cell_type": "code",
   "execution_count": null,
   "metadata": {},
   "outputs": [],
   "source": [
    "results = m.simulate_to_threshold(loading, save_freq=100)"
   ]
  },
  {
   "cell_type": "markdown",
   "metadata": {},
   "source": [
    "Now let's take a look at the resulting input current."
   ]
  },
  {
   "cell_type": "code",
   "execution_count": null,
   "metadata": {},
   "outputs": [],
   "source": [
    "fig = results.inputs.plot()"
   ]
  },
  {
   "cell_type": "markdown",
   "metadata": {},
   "source": [
    "Note that the loading is a constant around 2, this is because the larger loads (~4 amps) are outside of the averaging window. Here are the resulting outputs"
   ]
  },
  {
   "cell_type": "code",
   "execution_count": null,
   "metadata": {},
   "outputs": [],
   "source": [
    "fig = results.outputs.plot(compact=False)"
   ]
  },
  {
   "cell_type": "markdown",
   "metadata": {},
   "source": [
    "The voltage and temperature curves are much cleaner. They don't have the jumps present in the piecewise loading example. This is due to the constant loading.\n",
    "\n",
    "In this example we simulated to threshold, loading the system using a constant load profile calculated using the moving average load estimator. This load estimator needs to be updated with the add_load method whenever new loading data is available. "
   ]
  },
  {
   "cell_type": "markdown",
   "metadata": {},
   "source": [
    "<a id=\"gaussian-noise-in-loading\"></a>\n",
    "\n",
    "----------\n",
    "\n",
    "### Gaussian Noise in Loading"
   ]
  },
  {
   "cell_type": "markdown",
   "metadata": {},
   "source": [
    "Typically, users have an idea of what loading will look like, but there is some uncertainty. Future load estimates are hardly ever known exactly. This is where load wrappers like the `progpy.loading.GaussianNoiseLoadWrapper` come into play. The GaussianNoiseLoadWrapper wraps around another load profile, adding a random amount of noise, sampled from a Gaussian distribution, at each step. This will show some variability in simulation, but this becomes more important in prediction (see 9. Prediction).\n",
    "\n",
    "In this example we will repeat the Piecewise load example, this time using the GaussianNoiseLoadWrapper to represent our uncertainty in our future load estimate. \n",
    "\n",
    "First we will import the necessary classes and construct the Piecewise load estimation just as in the previous example."
   ]
  },
  {
   "cell_type": "code",
   "execution_count": null,
   "metadata": {},
   "outputs": [],
   "source": [
    "from progpy.loading import Piecewise, GaussianNoiseLoadWrapper\n",
    "loading = Piecewise(\n",
    "        InputContainer=m.InputContainer,\n",
    "        times=[600, 900, 1800, 3000],\n",
    "        values={'i': [2, 1, 4, 2, 3]})"
   ]
  },
  {
   "cell_type": "markdown",
   "metadata": {},
   "source": [
    "Next we will wrap this loading object in our Gaussian noise load wrapper"
   ]
  },
  {
   "cell_type": "code",
   "execution_count": null,
   "metadata": {},
   "outputs": [],
   "source": [
    "loading_with_noise = GaussianNoiseLoadWrapper(loading, 0.2)"
   ]
  },
  {
   "cell_type": "markdown",
   "metadata": {},
   "source": [
    "In this case we're adding Gaussian noise with a standard deviation of 0.2 to the result of the previous load estimator.\n",
    "\n",
    "Now let's simulate and look at the input profile."
   ]
  },
  {
   "cell_type": "code",
   "execution_count": null,
   "metadata": {},
   "outputs": [],
   "source": [
    "results = m.simulate_to_threshold(loading_with_noise, save_freq=100)\n",
    "fig = results.inputs.plot()"
   ]
  },
  {
   "cell_type": "markdown",
   "metadata": {},
   "source": [
    "Note the loading profile follows the piecewise shape, but with noise. If you run it again, you would get a slightly different result."
   ]
  },
  {
   "cell_type": "code",
   "execution_count": null,
   "metadata": {},
   "outputs": [],
   "source": [
    "results = m.simulate_to_threshold(loading_with_noise, save_freq=100)\n",
    "fig = results.inputs.plot()"
   ]
  },
  {
   "cell_type": "markdown",
   "metadata": {},
   "source": [
    "Here are the corresponding outputs."
   ]
  },
  {
   "cell_type": "code",
   "execution_count": null,
   "metadata": {},
   "outputs": [],
   "source": [
    "fig = results.outputs.plot(compact=False)"
   ]
  },
  {
   "cell_type": "markdown",
   "metadata": {},
   "source": [
    "Note that the noise in input can be seen in the resulting output plots.\n",
    "\n",
    "The seed can be set in creation of the GaussianNoiseLoadWrapper to ensure repeatable results, for example."
   ]
  },
  {
   "cell_type": "code",
   "execution_count": null,
   "metadata": {},
   "outputs": [],
   "source": [
    "loading_with_noise = GaussianNoiseLoadWrapper(loading, 0.2, seed=2000)\n",
    "results = m.simulate_to_threshold(loading_with_noise, save_freq=100)\n",
    "fig = results.inputs.plot()\n",
    "\n",
    "loading_with_noise = GaussianNoiseLoadWrapper(loading, 0.2, seed=2000)\n",
    "results = m.simulate_to_threshold(loading_with_noise, save_freq=100)\n",
    "fig = results.inputs.plot()"
   ]
  },
  {
   "cell_type": "markdown",
   "metadata": {},
   "source": [
    "The load profiles in the two examples above are identical because they share the same random seed.\n",
    "\n",
    "In this section we introduced the concept of NoiseWrappers and how they are used to represent uncertainty in future loading. This concept is especially important when used with prediction (see 9. Prediction). A GaussianNoiseLoadWrapper was used with a Piecewise loading profile to demonstrate it, but NoiseWrappers can be applied to any loading object or function, including the advanced profiles introduced in the next section."
   ]
  },
  {
   "cell_type": "markdown",
   "metadata": {},
   "source": [
    "<a id=\"custom-load-profiles\"></a>\n",
    "\n",
    "----------\n",
    "\n",
    "### Custom Load Profiles"
   ]
  },
  {
   "cell_type": "markdown",
   "metadata": {},
   "source": [
    "For most applications, the standard load estimation classes can be used to represent a user's expectation of future loading. However, there are some cases where load is some complex combination of time and state that cannot be represented by these classes. This section briefly describes a few of these cases. \n",
    "\n",
    "The first example is similar to the last one, in that there is Gaussian noise added to some underlying load profile. In this case the magnitude of noise increases linearly with time. This is an important example, as it allows us to represent a case where loading further out in time has more uncertainty (i.e., is less well known). This is common for many prognostic use-cases.\n",
    "\n",
    "Custom load profiles can be represented either as a function (t, x=None) -> u, where t is time, x is state, and u is input, or as a class which implements the __call__ method with the same profile as the function.\n",
    "\n",
    "In this case we will use the first method (i.e., the function). We will define a function that will use a defined slope (derivative of standard deviation with time)."
   ]
  },
  {
   "cell_type": "code",
   "execution_count": null,
   "metadata": {},
   "outputs": [],
   "source": [
    "from numpy.random import normal\n",
    "base_load = 2  # Base load (amps)\n",
    "std_slope = 1e-4  # Derivative of standard deviation with time\n",
    "def loading(t, x=None):\n",
    "    std = std_slope * t\n",
    "    return m.InputContainer({'i': normal(base_load, std)})"
   ]
  },
  {
   "cell_type": "markdown",
   "metadata": {},
   "source": [
    "Note that the above code is specifically for a battery, but it could be generalized to any system.\n",
    "\n",
    "Now let's simulate and look at the input profile."
   ]
  },
  {
   "cell_type": "code",
   "execution_count": null,
   "metadata": {},
   "outputs": [],
   "source": [
    "results = m.simulate_to_threshold(loading, save_freq=100)\n",
    "fig = results.inputs.plot()"
   ]
  },
  {
   "cell_type": "markdown",
   "metadata": {},
   "source": [
    "Note how the noise in the input signal increases with time. Since this is a random process, if you were to run this again you would get a different result.\n",
    "\n",
    "Here is the corresponding output. Note you can see the effects of the increasingly erratic input in the voltage curve."
   ]
  },
  {
   "cell_type": "code",
   "execution_count": null,
   "metadata": {},
   "outputs": [],
   "source": [
    "fig = results.outputs.plot(compact=False)"
   ]
  },
  {
   "cell_type": "markdown",
   "metadata": {},
   "source": [
    "In the final example we will define a loading profile that considers state. In this example, we're simulating a scenario where loads are removed (i.e., turned off) when discharge event state (i.e., SOC) reaches 0.25. This emulates a \"low power mode\" often employed in battery-powered electronics.\n",
    "\n",
    "For simplicity the underlying load will be constant, but this same approach could be applied to more complex profiles, and noise can be added on top using a NoiseWrapper."
   ]
  },
  {
   "cell_type": "code",
   "execution_count": null,
   "metadata": {},
   "outputs": [],
   "source": [
    "normal_load = m.InputContainer({'i': 2.7})\n",
    "low_power_load = m.InputContainer({'i': 1.9})\n",
    "\n",
    "def loading(t, x=None):\n",
    "    if x is not None:\n",
    "        # State is provided\n",
    "        soc = m.event_state(x)['EOD']\n",
    "        return normal_load if soc > 0.25 else low_power_load\n",
    "    return normal_load"
   ]
  },
  {
   "cell_type": "markdown",
   "metadata": {},
   "source": [
    "Note that the above example checks if x is not None. For some models, for the first timestep, state may be None (because state hasn't yet been calculated).\n",
    "\n",
    "Now let's use this in simulation and take a look at the loading profile."
   ]
  },
  {
   "cell_type": "code",
   "execution_count": null,
   "metadata": {},
   "outputs": [],
   "source": [
    "results = m.simulate_to_threshold(loading, save_freq=100)\n",
    "fig = results.inputs.plot()"
   ]
  },
  {
   "cell_type": "markdown",
   "metadata": {},
   "source": [
    "Here, as expected, load is at normal level for most of the time, then falls to low power mode towards the end of discharge.\n",
    "\n",
    "Let's look at the corresponding outputs."
   ]
  },
  {
   "cell_type": "code",
   "execution_count": null,
   "metadata": {},
   "outputs": [],
   "source": [
    "fig = results.outputs.plot(compact=False)"
   ]
  },
  {
   "cell_type": "markdown",
   "metadata": {},
   "source": [
    "Notice the jump in voltage at the point where the load changed. Low power mode extended the life of the battery.\n",
    "\n",
    "In this section we show how to make custom loading profiles. Most applications can use the standard load classes, but some may require creating complex custom load profiles using this feature."
   ]
  },
  {
   "cell_type": "markdown",
   "metadata": {},
   "source": [
    "<a id=\"step-size\"></a>\n",
    "\n",
    "----------\n",
    "\n",
    "## Step Size"
   ]
  },
  {
   "cell_type": "markdown",
   "metadata": {},
   "source": [
    "The next configurable parameter in simulation is the step size, or `dt`. This is the size of the step taken from one step to the next when simulating. Smaller step sizes will usually more accurately simulate state evolution, but at a computational cost. Conversely, some models can become unstable at large step sizes. Choosing the correct step size is important to the success of a simulation or prediction.\n",
    "\n",
    "In this section we will introduce the concept of setting simulation step size (`dt`) and discuss some considerations when selecting step sizes.\n",
    "\n",
    "For this section we will use the `progpy.models.ThrownObject model` (see 3. Included models), imported and created below."
   ]
  },
  {
   "cell_type": "code",
   "execution_count": null,
   "metadata": {},
   "outputs": [],
   "source": [
    "from progpy.models import ThrownObject\n",
    "m = ThrownObject()"
   ]
  },
  {
   "cell_type": "markdown",
   "metadata": {},
   "source": [
    "<a id=\"basic-step-size\"></a>\n",
    "\n",
    "----------\n",
    "\n",
    "### Basic Step Size"
   ]
  },
  {
   "cell_type": "markdown",
   "metadata": {},
   "source": [
    "To set step size, set the dt parameter in the `simulate_to` or `simulate_to_threshold` methods. In this example we will use a large and small step size and compare the results.\n",
    "\n",
    "First, let's simulate with a large step size, saving the result at every step."
   ]
  },
  {
   "cell_type": "code",
   "execution_count": null,
   "metadata": {},
   "outputs": [],
   "source": [
    "results = m.simulate_to_threshold(\n",
    "    events='impact',\n",
    "    dt=2.5,\n",
    "    save_freq=2.5)\n",
    "fig = results.outputs.plot(ylabel='Position (m)')"
   ]
  },
  {
   "cell_type": "markdown",
   "metadata": {},
   "source": [
    "Note that the parabola above is jagged. Also note that the estimated time of impact is around 10 seconds and the maximum height is a little over 120 meters. \n",
    "\n",
    "Now let's run the simulation again with a smaller step size."
   ]
  },
  {
   "cell_type": "code",
   "execution_count": null,
   "metadata": {},
   "outputs": [],
   "source": [
    "results = m.simulate_to_threshold(\n",
    "    events='impact',\n",
    "    dt=0.25,\n",
    "    save_freq=0.25)\n",
    "fig = results.outputs.plot(ylabel='Position (m)')"
   ]
  },
  {
   "cell_type": "markdown",
   "metadata": {},
   "source": [
    "Not only is the curve much smoother with a smaller step size, but the results are significantly different. Now the time of impact is closer to 8 seconds and maximum height closer to 80 meters.\n",
    "\n",
    "All simulations are approximations. The example with the larger step size accumulates more error in integration. The second example (with a smaller step size) is more accurate to the actual model behavior.\n",
    "\n",
    "Now let's decrease the step size even more"
   ]
  },
  {
   "cell_type": "code",
   "execution_count": null,
   "metadata": {},
   "outputs": [],
   "source": [
    "results = m.simulate_to_threshold(\n",
    "    events='impact',\n",
    "    dt=0.05,\n",
    "    save_freq=0.05)\n",
    "fig = results.outputs.plot(ylabel='Position (m)')"
   ]
  },
  {
   "cell_type": "markdown",
   "metadata": {},
   "source": [
    "The resulting output is different than the 0.25 second step size run, but not by much. What you see here is the diminishing returns in decreasing step size.\n",
    "\n",
    "The smaller the step size, the more computational resources required to simulate it. This doesn't matter as much for simulating this simple model over a short horizon, but becomes very important when performing prediction (see 9. Prediction), using a complex model with a long horizon, or when operating in a computationally constrained environment (e.g., embedded)."
   ]
  },
  {
   "cell_type": "markdown",
   "metadata": {},
   "source": [
    "<a id=\"dynamic-step-size\"></a>\n",
    "\n",
    "----------\n",
    "\n",
    "### Dynamic Step Size"
   ]
  },
  {
   "cell_type": "markdown",
   "metadata": {},
   "source": [
    "The last section introduced step size and showed how changing the step size effects the simulation results. In the last example step size (`dt`) and `save_freq` were the same, meaning each point was captured exactly. This is not always the case, for example in the case below. "
   ]
  },
  {
   "cell_type": "code",
   "execution_count": null,
   "metadata": {},
   "outputs": [],
   "source": [
    "results = m.simulate_to_threshold(\n",
    "    events='impact',\n",
    "    dt=1,\n",
    "    save_freq=1.5)\n",
    "print('Times saved: ', results.times)"
   ]
  },
  {
   "cell_type": "markdown",
   "metadata": {},
   "source": [
    "With a `save_freq` of 1.5 seconds you might expect the times saved to be 0, 1.5, 3, 4.5, ..., but that's not the case. This is because the timestep is 1 second, so the simulation never stops near 1.5 seconds to record it. 'auto' stepsize can help with this.\n",
    "\n",
    "To use 'auto' stepsize set `dt` to a tuple of ('auto', MAX) where MAX is replaced with the maximum allowable stepsize."
   ]
  },
  {
   "cell_type": "code",
   "execution_count": null,
   "metadata": {},
   "outputs": [],
   "source": [
    "results = m.simulate_to_threshold(\n",
    "    events='impact',\n",
    "    dt=('auto', 1),\n",
    "    save_freq=1.5)\n",
    "print('Times saved: ', results.times)"
   ]
  },
  {
   "cell_type": "markdown",
   "metadata": {},
   "source": [
    "We repeated the simulation using automatic step size with a maximum step size of 1. The result was that the times where state was saved matched what was requested exactly. This is important for simulations with large step sizes where there are specific times that must be captured.\n",
    "\n",
    "Also note that automatic step size doesn't just adjust for `save_freq`. It will also adjust to meet `save_pts` and any transition points in a Piecewise loading profile."
   ]
  },
  {
   "cell_type": "markdown",
   "metadata": {},
   "source": [
    "<a id=\"custom-step-size\"></a>\n",
    "\n",
    "----------\n",
    "\n",
    "### Custom Step Size"
   ]
  },
  {
   "cell_type": "markdown",
   "metadata": {},
   "source": [
    "There are times when an advanced user would like more flexibility in selecting step sizes. This can be used to adjust step size dynamically close to events or times of interest. In some models, there are complex behaviors during certain parts of the life of the system that require more precise simulation. For example, the knee point in the voltage profile for a discharged battery. This can be done by providing a function (t, x)->dt instead of a scalar `dt`. \n",
    "\n",
    "For example, if a user wanted to reduce the step size closer to impact, they could do so like this:"
   ]
  },
  {
   "cell_type": "code",
   "execution_count": null,
   "metadata": {},
   "outputs": [],
   "source": [
    "def next_time(t, x):\n",
    "    # In this example dt is a function of state. Uses a dt of 1 until impact event state 0.25, then 0.25\n",
    "    event_state = m.event_state(x)\n",
    "    if event_state['impact'] < 0.25:\n",
    "        return 0.25\n",
    "    return 1\n",
    "\n",
    "results=m.simulate_to_threshold(dt=next_time, save_freq= 0.25, events='impact')\n",
    "\n",
    "print(results.times)"
   ]
  },
  {
   "cell_type": "markdown",
   "metadata": {},
   "source": [
    "Note that after 8 seconds the step size decreased to 0.25 seconds, as expected."
   ]
  },
  {
   "cell_type": "markdown",
   "metadata": {},
   "source": [
    "<a id=\"parameters\"></a>\n",
    "\n",
    "----------\n",
    "\n",
    "## Parameters"
   ]
  },
  {
   "cell_type": "markdown",
   "metadata": {},
   "source": [
    "All the previous sections used a model with default settings. This is hardly ever the case. A model will have to be configured to represent the actual system. For example, the BatteryCircuit default parameters are for a 18650 battery tested in NASA's SHARP lab. If you're using the model for a system other than that one battery, you will need to update the parameters.\n",
    "\n",
    "The parameters available are specific to the system in question. See 3. Included Models for a more detailed description of these. For example, for the BatteryCircuit model, parameters include battery capacity, internal resistance, and other electrical characteristics.\n",
    "\n",
    "In this section we will adjust the parameters for the ThrownObject Model, observing how that changes system behavior."
   ]
  },
  {
   "cell_type": "code",
   "execution_count": null,
   "metadata": {},
   "outputs": [],
   "source": [
    "from progpy.models import ThrownObject\n",
    "m = ThrownObject()"
   ]
  },
  {
   "cell_type": "markdown",
   "metadata": {},
   "source": [
    "Parameters can be accessed using the `parameters` attribute. For a ThrownObject, here are the parameters:"
   ]
  },
  {
   "cell_type": "code",
   "execution_count": null,
   "metadata": {},
   "outputs": [],
   "source": [
    "print(m.parameters)"
   ]
  },
  {
   "cell_type": "markdown",
   "metadata": {},
   "source": [
    "Ignoring process and measurement noise for now (that will be described in the next section) and the lumped_parameter (which will be described in 4. Creating new prognostic models), the parameters of interest here are described below:\n",
    "\n",
    "* **thrower_height**: The height of the thrower in meters, and therefore the initial height of the thrown object\n",
    "* **throwing_speed**: The speed at which the ball is thrown vertically (in m/s)\n",
    "* **g**: Acceleration due to gravity (m/s^2)\n",
    "* **rho**: Air density (affects drag)\n",
    "* **A**: Cross-sectional area of the object (affects drag)\n",
    "* **m**: Mass of the object (affects drag)\n",
    "* **cd**: Coefficient of drag of the object (affects drag)\n",
    "\n",
    "Let's try simulating the path of the object with different throwing speeds."
   ]
  },
  {
   "cell_type": "code",
   "execution_count": null,
   "metadata": {},
   "outputs": [],
   "source": [
    "results1 = m.simulate_to_threshold(events='impact', dt=0.1, save_freq=0.1)\n",
    "fig = results1.outputs.plot(title='default')\n",
    "\n",
    "m['throwing_speed'] = 10\n",
    "results2 = m.simulate_to_threshold(events='impact', dt=0.1, save_freq=0.1)\n",
    "fig = results2.outputs.plot(title='slow')\n",
    "\n",
    "m['throwing_speed'] = 80\n",
    "results3 = m.simulate_to_threshold(events='impact', dt=0.1, save_freq=0.1)\n",
    "fig = results3.outputs.plot(title='fast')"
   ]
  },
  {
   "cell_type": "markdown",
   "metadata": {},
   "source": [
    "You can also set parameters as keyword arguments when instantiating the model, like below. "
   ]
  },
  {
   "cell_type": "code",
   "execution_count": null,
   "metadata": {},
   "outputs": [],
   "source": [
    "m_e = ThrownObject(g=-9.81)  # Earth gravity\n",
    "results_earth = m_e.simulate_to_threshold(events='impact', dt=0.1, save_freq=0.1)\n",
    "fig = results_earth.outputs.plot(title='Earth')\n",
    "\n",
    "m_j = ThrownObject(g=-24.79)  # Jupiter gravity\n",
    "results_jupiter = m_j.simulate_to_threshold(events='impact', dt=0.1, save_freq=0.1)\n",
    "fig = results_jupiter.outputs.plot(title='Jupiter')"
   ]
  },
  {
   "cell_type": "markdown",
   "metadata": {},
   "source": [
    "Model parameters are used to configure a model to accurately describe the system of interest.\n",
    "\n",
    "For a simple system like the ThrownObject, model parameters are simple and measurable. For most systems, there are many parameters that are difficult to estimate. For these, parameter estimation comes into play. See 2. Parameter Estimation for more details"
   ]
  },
  {
   "cell_type": "markdown",
   "metadata": {},
   "source": [
    "<a id=\"noise\"></a>\n",
    "\n",
    "----------\n",
    "\n",
    "## Noise"
   ]
  },
  {
   "cell_type": "markdown",
   "metadata": {},
   "source": [
    "It is impossible to have absolute knowledge of future states due to uncertainties in the system. To account for this, we can incorporate uncertainty into a model through the following forms:\n",
    "\n",
    "* __Process Noise__: Noise representing uncertainty in the model transition (e.g., model or model configuration uncertainty, uncertainty from simplifying assumptions). Applied during state transition.\n",
    "* __Measurement Noise__: Noise representing uncertainty in the measurement process (e.g., sensor sensitivity, sensor misalignments, environmental effects). Applied during estimation of outputs from states.\n",
    "* __Future Loading Noise__: Noise representing uncertainty in the future loading estimates (e.g., uncertainty from incomplete knowledge of future loading). Responsibility of user to apply in supplied future loading method.\n",
    "\n",
    "Other types of uncertainty will be introduced in [08_Prediction](08_Prediction.ipynb).\n",
    "\n",
    "In this section, we will be examining multiple approaches to adding process noise and measurement noise. For an example that adds future loading noise, please refer to the `GaussianNoiseLoadWrapper` in the [Gaussian Noise in Loading](#gaussian-noise-in-loading) section.\n",
    "\n",
    "We will start by importing the ThrownObject model for simulation and matplotlib for graphing."
   ]
  },
  {
   "cell_type": "code",
   "execution_count": 1,
   "metadata": {},
   "outputs": [],
   "source": [
    "from progpy.models import ThrownObject\n",
    "import matplotlib.pyplot as plt"
   ]
  },
  {
   "cell_type": "markdown",
   "metadata": {},
   "source": [
    "We will now define the configuration of the simulation and a helper function to print the results. We will not be passing in a future load since the ThrownObject model has no inputs and we cannot load the system (i.e., affect it once it's in the air)."
   ]
  },
  {
   "cell_type": "code",
   "execution_count": 2,
   "metadata": {},
   "outputs": [],
   "source": [
    "config = {\n",
    "    'events': 'impact',\n",
    "    'dt': 0.005,\n",
    "    'save_freq': 0.5,\n",
    "}\n",
    "\n",
    "def print_results(simulated_results):\n",
    "    print('states:')\n",
    "    for (t, x) in zip(simulated_results.times, simulated_results.states):\n",
    "        print('\\t{:.2f}s: {}'.format(t, x))\n",
    "\n",
    "    print('outputs:')\n",
    "    for (t, x) in zip(simulated_results.times, simulated_results.outputs):\n",
    "        print('\\t{:.2f}s: {}'.format(t, x))\n",
    "\n",
    "    # The simulation stopped at impact, so the last element of times is the impact time\n",
    "    print('\\nimpact time: {:.2f}s'.format(simulated_results.times[-1]))"
   ]
  },
  {
   "cell_type": "markdown",
   "metadata": {},
   "source": [
    "Let's start with an example with no noise."
   ]
  },
  {
   "cell_type": "code",
   "execution_count": 3,
   "metadata": {},
   "outputs": [
    {
     "name": "stdout",
     "output_type": "stream",
     "text": [
      "Simulation without noise\n",
      "states:\n",
      "\t0.00s: {'x': np.float64(1.83), 'v': np.float64(40.0)}\n",
      "\t0.50s: {'x': np.float64(20.35092591060207), 'v': np.float64(34.07855124289541)}\n",
      "\t1.00s: {'x': np.float64(35.98598359025924), 'v': np.float64(28.448770474404466)}\n",
      "\t1.50s: {'x': np.float64(48.9812214219364), 'v': np.float64(22.99846684410669)}\n",
      "\t2.00s: {'x': np.float64(59.18332628263409), 'v': np.float64(17.784029484245163)}\n",
      "\t2.50s: {'x': np.float64(66.81357749367159), 'v': np.float64(12.705288070826589)}\n",
      "\t3.00s: {'x': np.float64(71.92955924357045), 'v': np.float64(7.721366562656726)}\n",
      "\t3.50s: {'x': np.float64(74.56918342157253), 'v': np.float64(2.794268972436784)}\n",
      "\t4.00s: {'x': np.float64(74.75187498447991), 'v': np.float64(-2.1113986020335997)}\n",
      "\t4.50s: {'x': np.float64(72.48494840830797), 'v': np.float64(-6.999730906671477)}\n",
      "\t5.00s: {'x': np.float64(67.78481823843082), 'v': np.float64(-11.837967035954334)}\n",
      "\t5.50s: {'x': np.float64(60.68492405986194), 'v': np.float64(-16.59252129293879)}\n",
      "\t6.00s: {'x': np.float64(51.23495689027512), 'v': np.float64(-21.232138301745874)}\n",
      "\t6.50s: {'x': np.float64(39.49949633007264), 'v': np.float64(-25.728665374819705)}\n",
      "\t7.00s: {'x': np.float64(25.556303007969085), 'v': np.float64(-30.057652306180163)}\n",
      "\t7.50s: {'x': np.float64(9.494358581666052), 'v': np.float64(-34.19875724907123)}\n",
      "\t7.77s: {'x': np.float64(-0.02584293949765626), 'v': np.float64(-36.35101411864478)}\n",
      "outputs:\n",
      "\t0.00s: {'x': np.float64(1.83)}\n",
      "\t0.50s: {'x': np.float64(20.35092591060207)}\n",
      "\t1.00s: {'x': np.float64(35.98598359025924)}\n",
      "\t1.50s: {'x': np.float64(48.9812214219364)}\n",
      "\t2.00s: {'x': np.float64(59.18332628263409)}\n",
      "\t2.50s: {'x': np.float64(66.81357749367159)}\n",
      "\t3.00s: {'x': np.float64(71.92955924357045)}\n",
      "\t3.50s: {'x': np.float64(74.56918342157253)}\n",
      "\t4.00s: {'x': np.float64(74.75187498447991)}\n",
      "\t4.50s: {'x': np.float64(72.48494840830797)}\n",
      "\t5.00s: {'x': np.float64(67.78481823843082)}\n",
      "\t5.50s: {'x': np.float64(60.68492405986194)}\n",
      "\t6.00s: {'x': np.float64(51.23495689027512)}\n",
      "\t6.50s: {'x': np.float64(39.49949633007264)}\n",
      "\t7.00s: {'x': np.float64(25.556303007969085)}\n",
      "\t7.50s: {'x': np.float64(9.494358581666052)}\n",
      "\t7.77s: {'x': np.float64(-0.02584293949765626)}\n",
      "\n",
      "impact time: 7.77s\n"
     ]
    },
    {
     "name": "stderr",
     "output_type": "stream",
     "text": [
      "/Users/michellely/Documents/GitHub/progpy/src/progpy/exceptions.py:20: UserWarning: Behavior of SimResult.plot() will change with version 1.6. New behavior will match that of a pandas data frame.\n",
      "  warn(msg, *args, **kwargs)\n"
     ]
    },
    {
     "data": {
      "image/png": "[encoded data removed]",
      "text/plain": [
       "<Figure size 1000x900 with 1 Axes>"
      ]
     },
     "metadata": {},
     "output_type": "display_data"
    }
   ],
   "source": [
    "m = ThrownObject(process_noise=False)\n",
    "print('Simulation without noise')\n",
    "simulated_results = m.simulate_to_threshold(**config)\n",
    "\n",
    "print_results(simulated_results)\n",
    "simulated_results.states.plot()\n",
    "plt.title('Simulation with no noise')\n",
    "plt.show()"
   ]
  },
  {
   "cell_type": "markdown",
   "metadata": {},
   "source": [
    "Let's save the simulated results from this example into the variable `no_noise_simulation` to use as a comparison reference to the next few examples showing simulations with noise."
   ]
  },
  {
   "cell_type": "code",
   "execution_count": null,
   "metadata": {},
   "outputs": [],
   "source": [
    "no_noise_simulation = simulated_results"
   ]
  },
  {
   "cell_type": "markdown",
   "metadata": {},
   "source": [
    "We'll also define a helper function to display the overlay of the two simulations."
   ]
  },
  {
   "cell_type": "code",
   "execution_count": null,
   "metadata": {},
   "outputs": [],
   "source": [
    "def print_comparison_plot(no_noise_simulation, simulated_results):\n",
    "    plt.figure(figsize=(10,8))\n",
    "    \n",
    "    no_noise_x = [state['x'] for state in no_noise_simulation.states]\n",
    "    no_noise_v = [state['v'] for state in no_noise_simulation.states]\n",
    "    plt.plot(no_noise_simulation.times, no_noise_x, label='No noise (x)', color='tab:blue', linestyle='dashed')\n",
    "    plt.plot(no_noise_simulation.times, no_noise_v, label='No noise (v)', color='tab:orange', linestyle='dashed')\n",
    "    \n",
    "    noise_x = [state['x'] for state in simulated_results.states]\n",
    "    noise_v = [state['v'] for state in simulated_results.states]\n",
    "    plt.plot(simulated_results.times, noise_x, label='Noise (x)', color='tab:blue')\n",
    "    plt.plot(simulated_results.times, noise_v, label='Noise (v)', color='tab:orange')\n",
    "    \n",
    "    plt.legend()\n",
    "    plt.xlabel(\"time\")\n",
    "    plt.ylabel(\"state\")"
   ]
  },
  {
   "cell_type": "markdown",
   "metadata": {},
   "source": [
    "Here is an example of a simulation with normal (i.e., gaussian) process noise with a standard deviation of 25 applied to every state. Even though this standard deviation is quite high, we'll notice the curves aren't dramatically different due to the small step size. Every step noise is resampled so the noise added on a single step may be large but cancelled out over many steps."
   ]
  },
  {
   "cell_type": "code",
   "execution_count": null,
   "metadata": {},
   "outputs": [],
   "source": [
    "process_noise = 25\n",
    "\n",
    "m = ThrownObject(process_noise=process_noise)\n",
    "print('Simulation with process noise')\n",
    "simulated_results = m.simulate_to_threshold(**config)\n",
    "\n",
    "print_results(simulated_results)\n",
    "print_comparison_plot(no_noise_simulation, simulated_results)\n",
    "plt.title(\"Simulation with no noise vs. process noise\")\n",
    "plt.show()"
   ]
  },
  {
   "cell_type": "markdown",
   "metadata": {},
   "source": [
    "We can also specify different amounts of noise on different states. This is an example of a simulation with more process noise on position than velocity. Here you should see a smooth curve for the velocity and a noisy curve for position."
   ]
  },
  {
   "cell_type": "code",
   "execution_count": null,
   "metadata": {},
   "outputs": [],
   "source": [
    "process_noise = {'x': 30, 'v': 1}\n",
    "\n",
    "m = ThrownObject(process_noise=process_noise)\n",
    "print('Simulation with more process noise on position than velocity')\n",
    "simulated_results = m.simulate_to_threshold(**config)\n",
    "\n",
    "print_results(simulated_results)\n",
    "print_comparison_plot(no_noise_simulation, simulated_results)\n",
    "plt.title('Simulation with no noise vs. more process noise on position than velocity')\n",
    "plt.show()"
   ]
  },
  {
   "cell_type": "markdown",
   "metadata": {},
   "source": [
    "We can also define the shape of the noise to be uniform or triangular instead of normal. This example demonstrates a uniform process noise distribution."
   ]
  },
  {
   "cell_type": "code",
   "execution_count": null,
   "metadata": {},
   "outputs": [],
   "source": [
    "process_noise = {'x': 30, 'v': 1}\n",
    "process_noise_dist = 'uniform'\n",
    "model_config = {'process_noise_dist': process_noise_dist,\n",
    "                'process_noise': process_noise}\n",
    "\n",
    "m = ThrownObject(**model_config)\n",
    "print('Simulation with uniform process noise distribution')\n",
    "simulated_results = m.simulate_to_threshold(**config)\n",
    "\n",
    "print_results(simulated_results)\n",
    "display_comparison_plot(no_noise_simulation, simulated_results)\n",
    "plt.title('Simulation with no noise vs. uniform process noise distribution')\n",
    "plt.show()"
   ]
  },
  {
   "cell_type": "markdown",
   "metadata": {},
   "source": [
    "The above examples all focused on process noise. We can also use measurement noise and apply a noise distribution. Note that the outputs are different than the states since measurement noise is applied during the estimation of the outputs from the states. This means we will need to plot the x values for the simulation from the outputs rather than the states."
   ]
  },
  {
   "cell_type": "code",
   "execution_count": null,
   "metadata": {},
   "outputs": [],
   "source": [
    "measurement_noise = {'x': 10}\n",
    "measurement_noise_dist = 'triangular'\n",
    "model_config = {'measurement_noise_dist': measurement_noise_dist,\n",
    "                'measurement_noise': measurement_noise}\n",
    "\n",
    "m = ThrownObject(**model_config)\n",
    "print('Simulation with triangular measurement noise distribution')\n",
    "simulated_results = m.simulate_to_threshold(**config)\n",
    "\n",
    "print_results(simulated_results)\n",
    "\n",
    "plt.figure(figsize=(10,8))\n",
    "\n",
    "no_noise_x = [state['x'] for state in no_noise_simulation.states]\n",
    "no_noise_v = [state['v'] for state in no_noise_simulation.states]\n",
    "plt.plot(no_noise_simulation.times, no_noise_x, label='No noise (x)', color='tab:blue', linestyle='dashed')\n",
    "plt.plot(no_noise_simulation.times, no_noise_v, label='No noise (v)', color='tab:orange', linestyle='dashed')\n",
    "\n",
    "noise_x = [state['x'] for state in simulated_results.outputs]\n",
    "noise_v = [state['v'] for state in simulated_results.states]\n",
    "plt.plot(simulated_results.times, noise_x, label='Noise (x)', color='tab:blue')\n",
    "plt.plot(simulated_results.times, noise_v, label='Noise (v)', color='tab:orange')\n",
    "\n",
    "plt.legend()\n",
    "plt.xlabel(\"time\")\n",
    "plt.ylabel(\"state\")    \n",
    "plt.title('Simulation with no noise vs. triangular measurement noise distribution')\n",
    "plt.show()"
   ]
  },
  {
   "cell_type": "markdown",
   "metadata": {},
   "source": [
    "Let's now examine proportional noise, which can be used to do custom or more complex noise distributions. In this example, we will define a helper function `apply_proportional_process_noise`, which will add proportional noise to v and add more variation when the object is going faster.\n",
    "\n",
    "If we wanted to apply noise in a replicable manner, we could set the numpy random seed to a fixed value `numpy.random.seed(42)`"
   ]
  },
  {
   "cell_type": "code",
   "execution_count": null,
   "metadata": {},
   "outputs": [],
   "source": [
    "def apply_proportional_process_noise(self, x, dt=1):\n",
    "    x['v'] -= dt*0.5*x['v']\n",
    "    return x\n",
    "\n",
    "model_config = {'process_noise': apply_proportional_process_noise}\n",
    "\n",
    "m = ThrownObject(**model_config)\n",
    "print('Simulation with proportional noise on velocity')\n",
    "simulated_results = m.simulate_to_threshold(**config)\n",
    "\n",
    "print_results(simulated_results)\n",
    "print_comparison_plot(no_noise_simulation, simulated_results)\n",
    "plt.title('Simulation with no noise vs. proportional noise on velocity')\n",
    "plt.show()"
   ]
  },
  {
   "cell_type": "markdown",
   "metadata": {},
   "source": [
    "<a id=\"vectorized-simulation\"></a>\n",
    "\n",
    "----------\n",
    "\n",
    "## Vectorized Simulation"
   ]
  },
  {
   "cell_type": "markdown",
   "metadata": {},
   "source": [
    "**A version of this section will be added in release v1.8**"
   ]
  },
  {
   "cell_type": "markdown",
   "metadata": {},
   "source": [
    "<a id=\"configuring-simulation\"></a>\n",
    "\n",
    "----------\n",
    "\n",
    "## Configuring Simulation"
   ]
  },
  {
   "cell_type": "markdown",
   "metadata": {},
   "source": [
    "**A version of this notebook will be added in release v1.8, including:**\n",
    "* t0, x\n",
    "* integration_method"
   ]
  }
 ],
 "metadata": {
  "kernelspec": {
   "display_name": "Python 3 (ipykernel)",
   "language": "python",
   "name": "python3"
  },
  "language_info": {
   "codemirror_mode": {
    "name": "ipython",
    "version": 3
   },
   "file_extension": ".py",
   "mimetype": "text/x-python",
   "name": "python",
   "nbconvert_exporter": "python",
   "pygments_lexer": "ipython3",
   "version": "3.11.8"
  }
 },
 "nbformat": 4,
 "nbformat_minor": 4
}
