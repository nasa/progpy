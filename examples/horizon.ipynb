{
 "cells": [
  {
   "cell_type": "markdown",
   "metadata": {},
   "source": [
    "# Welcome to ProgPy's Horizon Example Notebook"
   ]
  },
  {
   "cell_type": "markdown",
   "metadata": {},
   "source": [
    "When performing a prediction, it is possible to specify the time value to predict to, or the prediction `horizon`. This prediction horizon marks the end of the \"time of interest\" for the prediction. Often this represents the end of a mission or sufficiently far in the future where the user is unconcerned with the events that occur after this time.\n",
    "\n",
    "The following example illustrates the use of a `horizon` by performing a prediction with uncertainty given a Prognostics Model with a specific prediction horizon. \n"
   ]
  },
  {
   "cell_type": "markdown",
   "metadata": {},
   "source": [
    "We will use the [ThrownObject](https://nasa.github.io/progpy/api_ref/prog_models/IncludedModels.html#thrownobject) model for this example. Once an instance of this class is created, prediction will occur in two steps: \n",
    "1) Generation of samples from the intial state \n",
    "2) Prediction of future states (with uncertainty) and the times at which the event thresholds will be reached, within the prediction horizon. All events outside the horizon come back as None and are ignored in metrics. \n",
    "\n",
    "The results of this prediction will be:\n",
    "- Predicted future values (inputs, states, outputs, event_states) with uncertainty from prediction\n",
    "- Time the event is predicted to occur (with uncertainty)"
   ]
  },
  {
   "cell_type": "markdown",
   "metadata": {},
   "source": [
    "First, let's import the necessary modules."
   ]
  },
  {
   "cell_type": "code",
   "execution_count": null,
   "metadata": {},
   "outputs": [],
   "source": [
    "import numpy as np\n",
    "from progpy.models.thrown_object import ThrownObject\n",
    "from progpy.predictors import MonteCarlo\n",
    "from progpy.uncertain_data import MultivariateNormalDist\n",
    "from pprint import pprint"
   ]
  },
  {
   "cell_type": "markdown",
   "metadata": {},
   "source": [
    "Next, let's define our model. We'll instantiate a `ThrownObject` model with `process_noise` and `measurement_noise` set to 0.25 and 0.2 respectively. Then we'll initialize the model. "
   ]
  },
  {
   "cell_type": "code",
   "execution_count": null,
   "metadata": {},
   "outputs": [],
   "source": [
    "m = ThrownObject(process_noise = 0.25, measurement_noise = 0.2)\n",
    "initial_state = m.initialize()"
   ]
  },
  {
   "cell_type": "markdown",
   "metadata": {},
   "source": [
    "To do prediction, we need a distribution of samples. Here, we'll create a distribution around the initial state using a Multivariate Normal Distribution. We'll use 500 samples for prediction. "
   ]
  },
  {
   "cell_type": "code",
   "execution_count": null,
   "metadata": {},
   "outputs": [],
   "source": [
    "NUM_SAMPLES = 500\n",
    "x = MultivariateNormalDist(initial_state.keys(), initial_state.values(), np.diag([x_i*0.01 for x_i in initial_state.values()]))"
   ]
  },
  {
   "cell_type": "markdown",
   "metadata": {},
   "source": [
    "Next, let's set up a predictor. Here, we'll be using the [MonteCarlo](https://nasa.github.io/progpy/prog_algs_guide.html#prog_algs.predictors.MonteCarlo) Predictor."
   ]
  },
  {
   "cell_type": "code",
   "execution_count": null,
   "metadata": {},
   "outputs": [],
   "source": [
    "mc = MonteCarlo(m)"
   ]
  },
  {
   "cell_type": "markdown",
   "metadata": {},
   "source": [
    "Now, let's perform a prediction. We give the `predict` method the following arguments:\n",
    "- Distribution of initial samples\n",
    "- Number of samples for prediction \n",
    "- Step size for the prediction \n",
    "- Prediction horizon, i.e. time value to predict to\n"
   ]
  },
  {
   "cell_type": "code",
   "execution_count": null,
   "metadata": {},
   "outputs": [],
   "source": [
    "PREDICTION_HORIZON = 7.7\n",
    "STEP_SIZE = 0.01\n",
    "\n",
    "# Make Prediction\n",
    "mc_results = mc.predict(x, n_samples=NUM_SAMPLES, dt=STEP_SIZE, horizon = PREDICTION_HORIZON)\n"
   ]
  },
  {
   "cell_type": "markdown",
   "metadata": {},
   "source": [
    "Let's see the results of the predicted time of event. We'll plot histograms of the distribution of times where `falling` and `impact` occurred. Note that no events occur after 7.7 seconds, since we enforced a prediction horizon at this value. "
   ]
  },
  {
   "cell_type": "code",
   "execution_count": null,
   "metadata": {},
   "outputs": [],
   "source": [
    "metrics = mc_results.time_of_event.metrics()\n",
    "print(\"\\nPredicted Time of Event:\")\n",
    "pprint(metrics)  # Note this takes some time\n",
    "mc_results.time_of_event.plot_hist(keys = 'impact')\n",
    "mc_results.time_of_event.plot_hist(keys = 'falling')"
   ]
  },
  {
   "cell_type": "markdown",
   "metadata": {},
   "source": [
    "Now let's calculate the percentage of each event that occurred before the prediction horizon was met. "
   ]
  },
  {
   "cell_type": "code",
   "execution_count": null,
   "metadata": {},
   "outputs": [],
   "source": [
    "print(\"\\nSamples where falling occurs before horizon: {:.2f}%\".format(metrics['falling']['number of samples']/NUM_SAMPLES * 100))\n",
    "print(\"\\nSamples where impact occurs before horizon: {:.2f}%\".format(metrics['impact']['number of samples']/NUM_SAMPLES * 100))"
   ]
  },
  {
   "cell_type": "markdown",
   "metadata": {},
   "source": [
    "All samples reach `falling` before the prediction horizon, but only some of the samples reach `impact`. "
   ]
  },
  {
   "cell_type": "markdown",
   "metadata": {},
   "source": [
    "To conclude, in this example, we've shown how to implement a prediction `horizon`. Specifying a prediction horizon defines the time value with which to predict to, and can be used anytime a user is only interested in events that occur before a specific point in time.  "
   ]
  }
 ],
 "metadata": {
  "kernelspec": {
   "display_name": "ProgPyEnvAll",
   "language": "python",
   "name": "python3"
  },
  "language_info": {
   "codemirror_mode": {
    "name": "ipython",
    "version": 3
   },
   "file_extension": ".py",
   "mimetype": "text/x-python",
   "name": "python",
   "nbconvert_exporter": "python",
   "pygments_lexer": "ipython3",
   "version": "3.9.6"
  },
  "orig_nbformat": 4
 },
 "nbformat": 4,
 "nbformat_minor": 2
}
