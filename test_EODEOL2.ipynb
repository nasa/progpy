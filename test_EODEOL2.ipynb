{
 "cells": [
  {
   "cell_type": "code",
   "execution_count": null,
   "metadata": {},
   "outputs": [],
   "source": [
    "from progpy.models import NEW_BatteryElectroChemEODEOL\n",
    "\n",
    "batt = NEW_BatteryElectroChemEODEOL()\n",
    "batt2 = NEW_BatteryElectroChemEODEOL()\n",
    "\n",
    "print('inputs:', batt.inputs)\n",
    "print('outputs:', batt.outputs)\n",
    "print('event(s): ', batt.events)\n",
    "print('states:', batt.states)\n",
    "print('params:', batt.parameters)\n",
    "\n",
    "print('\\n\\ninputs:', batt2.inputs)\n",
    "print('outputs:', batt2.outputs)\n",
    "print('event(s): ', batt2.events)\n",
    "print('states:', batt2.states)\n",
    "print('params:', batt2.parameters)\n",
    "\n",
    "config = {\n",
    "    'save_freq': 1000,\n",
    "    'dt': 2,\n",
    "    'events': 'InsufficientCapacity',\n",
    "    'print': True\n",
    "}\n",
    "\n",
    "def future_loading1(t, x=None):\n",
    "    load = 1\n",
    "    \n",
    "    if x is not None:\n",
    "        event_state = batt.event_state(x)\n",
    "        if event_state[\"EOD\"] > 0.95:\n",
    "            load = 1 # Discharge\n",
    "        elif event_state[\"EOD\"] < 0.05:\n",
    "            load = -1 # Charge\n",
    "            \n",
    "    return batt.InputContainer({'i': load})\n",
    "\n",
    "config2 = {\n",
    "    'save_freq': 1000,\n",
    "    'dt': 2,\n",
    "    'events': 'InsufficientCapacity',\n",
    "    'print': False\n",
    "}\n",
    "\n",
    "def future_loading2(t, x=None):\n",
    "    load = 1\n",
    "    \n",
    "    if x is not None:\n",
    "        event_state = batt2.event_state(x)\n",
    "        if event_state[\"EOD\"] > 0.95:\n",
    "            load = 1 # Discharge\n",
    "        elif event_state[\"EOD\"] < 0.05:\n",
    "            load = -1 # Charge\n",
    "\n",
    "    return batt2.InputContainer({'i': load})"
   ]
  },
  {
   "cell_type": "code",
   "execution_count": null,
   "metadata": {},
   "outputs": [],
   "source": [
    "result = batt.simulate_to_threshold(future_loading1, **config)"
   ]
  },
  {
   "cell_type": "code",
   "execution_count": null,
   "metadata": {},
   "outputs": [],
   "source": [
    "result2 = batt2.simulate_to_threshold(future_loading2, **config2)"
   ]
  },
  {
   "cell_type": "code",
   "execution_count": null,
   "metadata": {},
   "outputs": [],
   "source": [
    "print(result.times == result2.times)\n",
    "print(result.inputs == result2.inputs)\n",
    "print(result.states == result2.states)\n",
    "# Slightly off - is it because the Battery decays after using it once so computing the event_state messes it up? The parameters, states, etc. are all the same\n",
    "print(result.event_states == result2.event_states)\n",
    "print(result.outputs == result2.oututs)"
   ]
  },
  {
   "cell_type": "code",
   "execution_count": null,
   "metadata": {},
   "outputs": [],
   "source": [
    "print(result.event_states[6][\"EOD\"], result2.event_states[6][\"EOD\"])"
   ]
  }
 ],
 "metadata": {
  "kernelspec": {
   "display_name": ".venv",
   "language": "python",
   "name": "python3"
  },
  "language_info": {
   "codemirror_mode": {
    "name": "ipython",
    "version": 3
   },
   "file_extension": ".py",
   "mimetype": "text/x-python",
   "name": "python",
   "nbconvert_exporter": "python",
   "pygments_lexer": "ipython3",
   "version": "3.12.9"
  }
 },
 "nbformat": 4,
 "nbformat_minor": 2
}
