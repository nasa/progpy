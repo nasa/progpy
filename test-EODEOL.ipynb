{
 "cells": [
  {
   "cell_type": "code",
   "execution_count": 1,
   "metadata": {},
   "outputs": [
    {
     "name": "stdout",
     "output_type": "stream",
     "text": [
      "inputs: ['i']\n",
      "outputs: ['t', 'v']\n",
      "event(s):  ['EOD']\n",
      "states: ['tb', 'Vo', 'Vsn', 'Vsp', 'qnB', 'qnS', 'qpB', 'qpS']\n",
      "params: {'process_noise': {'tb': np.float64(0.0), 'Vo': np.float64(0.0), 'Vsn': np.float64(0.0), 'Vsp': np.float64(0.0), 'qnB': np.float64(0.0), 'qnS': np.float64(0.0), 'qpB': np.float64(0.0), 'qpS': np.float64(0.0)}, 'measurement_noise': {'t': np.float64(0.0), 'v': np.float64(0.0)}, 'qMobile': 7600, 'xnMax': 0.6, 'xnMin': 0.0, 'xpMax': 1.0, 'xpMin': 0.4, 'Ro': 0.117215, 'alpha': 0.5, 'Sn': 0.000437545, 'Sp': 0.00030962, 'kn': 2120.96, 'kp': 248898, 'Vol': 2e-05, 'VolSFraction': 0.1, 'tDiffusion': 7000000.0, 'to': 6.08671, 'tsn': 1001.38, 'tsp': 46.4311, 'U0p': 4.03, 'Ap': [-31593.7, 0.106747, 24606.4, -78561.9, 13317.9, 307387, 84916.1, -1074690.0, 2285.04, 990894, 283920, -161513, -469218], 'U0n': 0.01, 'An': [86.19, 0, 0, 0, 0, 0, 0, 0, 0, 0, 0, 0, 0], 'x0': {'Vo': 0, 'Vsn': 0, 'Vsp': 0, 'tb': 292.1, 'qpS': 506.6666666666668, 'qpB': 4560.000000000001, 'qnS': 760.0, 'qnB': 6840.0}, 'VEOD': 3.0, 'VDropoff': 0.1, 'qMax': 12666.666666666668, 'qnMin': 0.0, 'qnMax': 7600.0, 'qSMax': 1266.666666666667, 'qBMax': 11400.000000000002, 'VolS': 2.0000000000000003e-06, 'VolB': 1.8e-05}\n",
      "\n",
      "\n",
      "inputs: ['i']\n",
      "outputs: ['t', 'v']\n",
      "event(s):  ['EOD']\n",
      "states: ['tb', 'Vo', 'Vsn', 'Vsp', 'qnB', 'qnS', 'qpB', 'qpS', 'qMobile', 'tDiffusion', 'Ro']\n",
      "params: {'process_noise': {'tb': np.float64(0.0), 'Vo': np.float64(0.0), 'Vsn': np.float64(0.0), 'Vsp': np.float64(0.0), 'qnB': np.float64(0.0), 'qnS': np.float64(0.0), 'qpB': np.float64(0.0), 'qpS': np.float64(0.0), 'qMobile': np.float64(0.0), 'tDiffusion': np.float64(0.0), 'Ro': np.float64(0.0)}, 'measurement_noise': {'t': np.float64(0.0), 'v': np.float64(0.0)}, 'xnMax': 0.6, 'xnMin': 0.0, 'xpMax': 1.0, 'xpMin': 0.4, 'qMax': 12666.666666666668, 'alpha': 0.5, 'Sn': 0.000437545, 'Sp': 0.00030962, 'kn': 2120.96, 'kp': 248898, 'Vol': 2e-05, 'VolSFraction': 0.1, 'to': 6.08671, 'tsn': 1001.38, 'tsp': 46.4311, 'U0p': 4.03, 'Ap': [-31593.7, 0.106747, 24606.4, -78561.9, 13317.9, 307387, 84916.1, -1074690.0, 2285.04, 990894, 283920, -161513, -469218], 'U0n': 0.01, 'An': [86.19, 0, 0, 0, 0, 0, 0, 0, 0, 0, 0, 0, 0], 'x0': {'Vo': 0, 'Vsn': 0, 'Vsp': 0, 'tb': 292.1, 'qMobile': 7600, 'Ro': 0.117215, 'tDiffusion': 7000000.0, 'qpS': 506.6666666666668, 'qpB': 4560.000000000001, 'qnS': 760.0, 'qnB': 6840.0}, 'VEOD': 3.0, 'VDropoff': 0.1, 'VolS': 2.0000000000000003e-06, 'VolB': 1.8e-05, 'qSMax': 1266.666666666667, 'qBMax': 11400.000000000002, 'qnMin': 0.0, 'qnMax': 7600.0}\n"
     ]
    }
   ],
   "source": [
    "from progpy.models import BatteryElectroChemEOD\n",
    "from progpy.models import NEW_BatteryElectroChemEODEOL\n",
    "\n",
    "import matplotlib.pyplot as plt\n",
    "\n",
    "batt = BatteryElectroChemEOD()\n",
    "batt2 = NEW_BatteryElectroChemEODEOL()\n",
    "\n",
    "print('inputs:', batt.inputs)\n",
    "print('outputs:', batt.outputs)\n",
    "print('event(s): ', batt.events)\n",
    "print('states:', batt.states)\n",
    "print('params:', batt.parameters)\n",
    "\n",
    "print('\\n\\ninputs:', batt2.inputs)\n",
    "print('outputs:', batt2.outputs)\n",
    "print('event(s): ', batt2.events)\n",
    "print('states:', batt2.states)\n",
    "print('params:', batt2.parameters)"
   ]
  },
  {
   "cell_type": "code",
   "execution_count": 2,
   "metadata": {},
   "outputs": [],
   "source": [
    "config = {\n",
    "    'save_freq': 1000,\n",
    "    'dt': 2,\n",
    "    'events': 'EOD',\n",
    "    'print': True\n",
    "}\n",
    "\n",
    "def future_loading(t, x=None):\n",
    "    # Variable (piece-wise) future loading scheme \n",
    "    if (t < 600):\n",
    "        i = 2\n",
    "    elif (t < 900):\n",
    "        i = 1\n",
    "    elif (t < 1800):\n",
    "        i = 4\n",
    "    elif (t < 3000):\n",
    "        i = 2     \n",
    "    else:\n",
    "        i = 3\n",
    "    return batt.InputContainer({'i': i})\n",
    "\n",
    "\n",
    "def future_loading2(t, x=None):\n",
    "    # Variable (piece-wise) future loading scheme \n",
    "    if (t < 600):\n",
    "        i = 2\n",
    "    elif (t < 900):\n",
    "        i = 1\n",
    "    elif (t < 1800):\n",
    "        i = 4\n",
    "    elif (t < 3000):\n",
    "        i = 2     \n",
    "    else:\n",
    "        i = 3\n",
    "    return batt2.InputContainer({'i': i})"
   ]
  },
  {
   "cell_type": "code",
   "execution_count": 3,
   "metadata": {},
   "outputs": [
    {
     "name": "stdout",
     "output_type": "stream",
     "text": [
      "Time: 0.0\n",
      "\tInput: {'i': np.float64(2.0)}\n",
      "\tState: {'tb': np.float64(292.1), 'Vo': np.float64(0.0), 'Vsn': np.float64(0.0), 'Vsp': np.float64(0.0), 'qnB': np.float64(6840.0), 'qnS': np.float64(760.0), 'qpB': np.float64(4560.000000000001), 'qpS': np.float64(506.6666666666668)}\n",
      "\tOutput: {'t': np.float64(18.950000000000045), 'v': np.float64(4.191350293826752)}\n",
      "\tEvent State: {'EOD': np.float64(1.0)}\n",
      "\n",
      "Time: 1000.0\n",
      "\tInput: {'i': np.float64(4.0)}\n",
      "\tState: {'tb': np.float64(295.70070281148685), 'Vo': np.float64(0.46885999921356114), 'Vsn': np.float64(0.04471291834529359), 'Vsp': np.float64(0.0024435373839689373), 'qnB': np.float64(5175.353995175486), 'qnS': np.float64(524.646004824462), 'qpB': np.float64(6224.646004824515), 'qpS': np.float64(742.020661842205)}\n",
      "\tOutput: {'t': np.float64(22.55070281148687), 'v': np.float64(3.4158824635517187)}\n",
      "\tEvent State: {'EOD': np.float64(0.749999999999993)}\n",
      "\n",
      "Time: 2000.0\n",
      "\tInput: {'i': np.float64(2.0)}\n",
      "\tState: {'tb': np.float64(294.41219092299735), 'Vo': np.float64(0.23443000000000003), 'Vsn': np.float64(0.0862589863590981), 'Vsp': np.float64(0.0018441033845848994), 'qnB': np.float64(1912.6800007065995), 'qnS': np.float64(187.31999929339742), 'qpB': np.float64(9487.319999293519), 'qpS': np.float64(1079.3466673732826)}\n",
      "\tOutput: {'t': np.float64(21.262190922997377), 'v': np.float64(3.4430933991772488)}\n",
      "\tEvent State: {'EOD': np.float64(0.2763157894736838)}\n",
      "\n",
      "Time: 2822.0\n",
      "\tInput: {'i': np.float64(2.0)}\n",
      "\tState: {'tb': np.float64(293.90891210096544), 'Vo': np.float64(0.23443000000000003), 'Vsn': np.float64(0.10015599244041447), 'Vsp': np.float64(0.004266105427115592), 'qnB': np.float64(433.0800000000082), 'qnS': np.float64(22.92000000000094), 'qpB': np.float64(10966.920000000244), 'qpS': np.float64(1243.746666666694)}\n",
      "\tOutput: {'t': np.float64(20.75891210096546), 'v': np.float64(2.99537210286267)}\n",
      "\tEvent State: {'EOD': np.float64(0.0)}\n",
      "\n"
     ]
    }
   ],
   "source": [
    "simulated_results = batt.simulate_to_threshold(future_loading, **config)"
   ]
  },
  {
   "cell_type": "code",
   "execution_count": 4,
   "metadata": {},
   "outputs": [
    {
     "name": "stdout",
     "output_type": "stream",
     "text": [
      "Time: 0.0\n",
      "\tInput: {'i': np.float64(2.0)}\n",
      "\tState: {'tb': np.float64(292.1), 'Vo': np.float64(0.0), 'Vsn': np.float64(0.0), 'Vsp': np.float64(0.0), 'qnB': np.float64(6840.0), 'qnS': np.float64(760.0), 'qpB': np.float64(4560.000000000001), 'qpS': np.float64(506.6666666666668), 'qMobile': np.float64(7600.0), 'tDiffusion': np.float64(7000000.0), 'Ro': np.float64(0.117215)}\n",
      "\tOutput: {'t': np.float64(18.950000000000045), 'v': np.float64(4.191350293826752)}\n",
      "\tEvent State: {'EOD': np.float64(1.0)}\n",
      "\n",
      "Time: 8.0\n",
      "\tInput: {'i': np.float64(2.0)}\n",
      "\tState: {'tb': np.float64(292.23342608838857), 'Vo': np.float64(2.672776127656476), 'Vsn': np.float64(0.0006126303026605814), 'Vsp': np.float64(0.00021489567919229577), 'qnB': np.float64(6839.624253553912), 'qnS': np.float64(744.3757464460878), 'qpB': np.float64(4560.375746446089), 'qpS': np.float64(522.290920220579), 'qMobile': np.float64(615600.0), 'tDiffusion': np.float64(567000000.0), 'Ro': np.float64(9.494415)}\n",
      "\tOutput: {'t': np.float64(19.083426088388592), 'v': np.float64(1.4947669045032028)}\n",
      "\tEvent State: {'EOD': np.float64(0.0)}\n",
      "\n"
     ]
    }
   ],
   "source": [
    "simulated_results2 = batt2.simulate_to_threshold(future_loading2, **config)"
   ]
  },
  {
   "cell_type": "code",
   "execution_count": null,
   "metadata": {},
   "outputs": [],
   "source": [
    "fig = simulated_results.event_states.plot(xlabel='time (s)', ylabel='event states', labels={'EOD', 'InsufficientCapacity'})"
   ]
  },
  {
   "cell_type": "code",
   "execution_count": null,
   "metadata": {},
   "outputs": [],
   "source": [
    "fig = simulated_results2.event_states.plot(xlabel='time (s)', ylabel='event states', labels={'EOD', 'InsufficientCapacity'})"
   ]
  }
 ],
 "metadata": {
  "kernelspec": {
   "display_name": ".venv",
   "language": "python",
   "name": "python3"
  },
  "language_info": {
   "codemirror_mode": {
    "name": "ipython",
    "version": 3
   },
   "file_extension": ".py",
   "mimetype": "text/x-python",
   "name": "python",
   "nbconvert_exporter": "python",
   "pygments_lexer": "ipython3",
   "version": "3.12.9"
  }
 },
 "nbformat": 4,
 "nbformat_minor": 2
}
