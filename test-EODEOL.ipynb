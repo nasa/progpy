{
 "cells": [
  {
   "cell_type": "code",
   "execution_count": null,
   "metadata": {},
   "outputs": [],
   "source": [
    "from progpy.models import BatteryElectroChemEODEOL\n",
    "from progpy.models import NEW_BatteryElectroChemEODEOL\n",
    "\n",
    "import matplotlib.pyplot as plt\n",
    "\n",
    "batt = BatteryElectroChemEODEOL()\n",
    "batt2 = NEW_BatteryElectroChemEODEOL()\n",
    "\n",
    "print('inputs:', batt.inputs)\n",
    "print('outputs:', batt.outputs)\n",
    "print('event(s): ', batt.events)\n",
    "print('states:', batt.states)\n",
    "print('params:', batt.parameters)\n",
    "\n",
    "print('\\n\\ninputs:', batt2.inputs)\n",
    "print('outputs:', batt2.outputs)\n",
    "print('event(s): ', batt2.events)\n",
    "print('states:', batt2.states)\n",
    "print('params:', batt2.parameters)"
   ]
  },
  {
   "cell_type": "code",
   "execution_count": null,
   "metadata": {},
   "outputs": [],
   "source": [
    "def future_loading(t, x=None):\n",
    "    load = 1\n",
    "    \n",
    "    if x is not None:\n",
    "        event_state = batt.event_state(x)\n",
    "        if event_state[\"EOD\"] > 0.95:\n",
    "            load = 1 # Discharge\n",
    "        elif event_state[\"EOD\"] < 0.05:\n",
    "            load = -1 # Charge\n",
    "            \n",
    "    return batt.InputContainer({'i': load})\n",
    "\n",
    "def future_loading2(t, x=None):\n",
    "    load = 1\n",
    "    \n",
    "    if x is not None:\n",
    "        event_state = batt2.event_state(x)\n",
    "        if event_state[\"EOD\"] > 0.95:\n",
    "            load = 1 # Discharge\n",
    "        elif event_state[\"EOD\"] < 0.05:\n",
    "            load = -1 # Charge\n",
    "            \n",
    "    return batt2.InputContainer({'i': load})\n",
    "\n",
    "def print_plots(simulated_results, simulated_results2):\n",
    "    eod2 = [event_state['EOD'] for event_state in simulated_results2.event_states]\n",
    "    ic2 = [event_state['InsufficientCapacity'] for event_state in simulated_results2.event_states]\n",
    "    plt.plot(simulated_results2.times, eod2, label='EOD', color='tab:blue')\n",
    "    plt.plot(simulated_results2.times, ic2, label='InsufficientCapacity', color='tab:orange')\n",
    "\n",
    "    eod = [event_state['EOD'] for event_state in simulated_results.event_states]\n",
    "    ic = [event_state['InsufficientCapacity'] for event_state in simulated_results.event_states]\n",
    "    plt.plot(simulated_results.times, eod, label='OG - EOD', color='#155d8d', linestyle='dashed')\n",
    "    plt.plot(simulated_results.times, ic, label='OG - InsufficientCapacity', color='#d65a08', linestyle='dashed')\n",
    "\n",
    "    plt.legend()\n",
    "    plt.show()"
   ]
  },
  {
   "cell_type": "code",
   "execution_count": null,
   "metadata": {},
   "outputs": [],
   "source": [
    "config = {\n",
    "    'save_freq': 1000,\n",
    "    'dt': 2,\n",
    "    'events': 'InsufficientCapacity',\n",
    "    'print': True\n",
    "}\n",
    "\n",
    "simulated_results2 = batt2.simulate_to_threshold(future_loading2, **config)\n",
    "simulated_results = batt.simulate_to_threshold(future_loading, **config)\n",
    "\n",
    "print_plots(simulated_results, simulated_results2)"
   ]
  },
  {
   "cell_type": "code",
   "execution_count": null,
   "metadata": {},
   "outputs": [],
   "source": [
    "batt = BatteryElectroChemEODEOL()\n",
    "batt2 = NEW_BatteryElectroChemEODEOL()\n",
    "\n",
    "config = {\n",
    "    'save_freq': 1000,\n",
    "    'dt': 2,\n",
    "    'events': 'InsufficientCapacity',\n",
    "    'print': False\n",
    "}\n",
    "\n",
    "simulated_results2 = batt2.simulate_to_threshold(future_loading2, **config)\n",
    "simulated_results = batt.simulate_to_threshold(future_loading, **config)\n",
    "\n",
    "print_plots(simulated_results, simulated_results2)"
   ]
  }
 ],
 "metadata": {
  "language_info": {
   "name": "python"
  }
 },
 "nbformat": 4,
 "nbformat_minor": 2
}
