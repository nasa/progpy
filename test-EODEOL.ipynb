{
 "cells": [
  {
   "cell_type": "code",
   "execution_count": null,
   "metadata": {},
   "outputs": [],
   "source": [
    "from progpy.models import BatteryElectroChemEOD\n",
    "from progpy.models import NEW_BatteryElectroChemEODEOL\n",
    "\n",
    "import matplotlib.pyplot as plt\n",
    "\n",
    "batt = BatteryElectroChemEOD()\n",
    "batt2 = NEW_BatteryElectroChemEODEOL()\n",
    "\n",
    "print('inputs:', batt.inputs)\n",
    "print('outputs:', batt.outputs)\n",
    "print('event(s): ', batt.events)\n",
    "print('states:', batt.states)\n",
    "print('params:', batt.parameters)\n",
    "\n",
    "print('\\n\\ninputs:', batt2.inputs)\n",
    "print('outputs:', batt2.outputs)\n",
    "print('event(s): ', batt2.events)\n",
    "print('states:', batt2.states)\n",
    "print('params:', batt2.parameters)"
   ]
  },
  {
   "cell_type": "code",
   "execution_count": null,
   "metadata": {},
   "outputs": [],
   "source": [
    "config = {\n",
    "    'save_freq': 1000,\n",
    "    'dt': 2,\n",
    "    'events': 'EOD',\n",
    "    'print': True\n",
    "}\n",
    "\n",
    "def future_loading(t, x=None):\n",
    "    # Variable (piece-wise) future loading scheme \n",
    "    if (t < 600):\n",
    "        i = 2\n",
    "    elif (t < 900):\n",
    "        i = 1\n",
    "    elif (t < 1800):\n",
    "        i = 4\n",
    "    elif (t < 3000):\n",
    "        i = 2     \n",
    "    else:\n",
    "        i = 3\n",
    "    return batt.InputContainer({'i': i})\n",
    "\n",
    "\n",
    "def future_loading2(t, x=None):\n",
    "    # Variable (piece-wise) future loading scheme \n",
    "    if (t < 600):\n",
    "        i = 2\n",
    "    elif (t < 900):\n",
    "        i = 1\n",
    "    elif (t < 1800):\n",
    "        i = 4\n",
    "    elif (t < 3000):\n",
    "        i = 2     \n",
    "    else:\n",
    "        i = 3\n",
    "    return batt2.InputContainer({'i': i})"
   ]
  },
  {
   "cell_type": "code",
   "execution_count": null,
   "metadata": {},
   "outputs": [],
   "source": [
    "simulated_results = batt.simulate_to_threshold(future_loading, **config)"
   ]
  },
  {
   "cell_type": "code",
   "execution_count": null,
   "metadata": {},
   "outputs": [],
   "source": [
    "simulated_results2 = batt2.simulate_to_threshold(future_loading2, **config)"
   ]
  },
  {
   "cell_type": "code",
   "execution_count": null,
   "metadata": {},
   "outputs": [],
   "source": [
    "fig = simulated_results.event_states.plot(xlabel='time (s)', ylabel='event states', labels={'EOD', 'InsufficientCapacity'})"
   ]
  },
  {
   "cell_type": "code",
   "execution_count": null,
   "metadata": {},
   "outputs": [],
   "source": [
    "fig = simulated_results2.event_states.plot(xlabel='time (s)', ylabel='event states', labels={'EOD', 'InsufficientCapacity'})"
   ]
  }
 ],
 "metadata": {
  "kernelspec": {
   "display_name": ".venv",
   "language": "python",
   "name": "python3"
  },
  "language_info": {
   "codemirror_mode": {
    "name": "ipython",
    "version": 3
   },
   "file_extension": ".py",
   "mimetype": "text/x-python",
   "name": "python",
   "nbconvert_exporter": "python",
   "pygments_lexer": "ipython3",
   "version": "3.12.9"
  }
 },
 "nbformat": 4,
 "nbformat_minor": 2
}
