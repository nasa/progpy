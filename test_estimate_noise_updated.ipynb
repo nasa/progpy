{
 "cells": [
  {
   "cell_type": "markdown",
   "metadata": {},
   "source": [
    "## Updated Noise Estimation Brute Force\n",
    "\n",
    "For a single noise value, have multiple simulations for that and that will show the distribution of possible values at that noise level\n",
    "-  Note that each noise value samples from a distribution already, and the same noise value is going to have different results each time due to this\n",
    "- Use MonteCarlo from monte_carlo.py\n",
    "- In 2024PHMTutorial, see monte_carlo example"
   ]
  },
  {
   "cell_type": "code",
   "execution_count": 19,
   "metadata": {},
   "outputs": [
    {
     "data": {
      "text/plain": [
       "{'n_samples': None, 'event_strategy': 'all', 'constant_noise': False}"
      ]
     },
     "execution_count": 19,
     "metadata": {},
     "output_type": "execute_result"
    }
   ],
   "source": [
    "from progpy.models import ThrownObject\n",
    "import numpy as np\n",
    "import matplotlib.pyplot as plt\n",
    "from progpy.predictors import MonteCarlo\n",
    "\n",
    "# Plot real data\n",
    "times = [0, 1, 2, 3, 4, 5, 6, 7]\n",
    "inputs = [{}]*8\n",
    "outputs = [\n",
    "    {'x': 1.83},\n",
    "    {'x': 36.5091999066245},\n",
    "    {'x': 60.05364349596605},\n",
    "    {'x': 73.23733081022635},\n",
    "    {'x': 76.47528104941956},\n",
    "    {'x': 69.9146810161441},\n",
    "    {'x': 53.74272753819968},\n",
    "    {'x': 28.39355725512131},\n",
    "]\n",
    "\n",
    "m = ThrownObject(process_noise=0, measurement_noise=0)\n",
    "mc = MonteCarlo(m)"
   ]
  }
 ],
 "metadata": {
  "kernelspec": {
   "display_name": ".venv",
   "language": "python",
   "name": "python3"
  },
  "language_info": {
   "codemirror_mode": {
    "name": "ipython",
    "version": 3
   },
   "file_extension": ".py",
   "mimetype": "text/x-python",
   "name": "python",
   "nbconvert_exporter": "python",
   "pygments_lexer": "ipython3",
   "version": "3.12.9"
  }
 },
 "nbformat": 4,
 "nbformat_minor": 2
}
