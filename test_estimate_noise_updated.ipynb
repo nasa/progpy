{
 "cells": [
  {
   "cell_type": "markdown",
   "metadata": {},
   "source": [
    "## Noise Estimation Brute Force Approach\n",
    "\n",
    "For a single noise value, have multiple simulations for that and that will show the distribution of possible values at that noise level\n",
    "-  Note that each noise value samples from a distribution already, and the same noise value is going to have different results each time due to this\n",
    "- Use MonteCarlo from monte_carlo.py\n",
    "- In 2024PHMTutorial, see monte_carlo example"
   ]
  },
  {
   "cell_type": "code",
   "execution_count": null,
   "metadata": {},
   "outputs": [],
   "source": [
    "from progpy.models import ThrownObject\n",
    "import numpy as np\n",
    "import matplotlib.pyplot as plt\n",
    "from progpy.predictors import MonteCarlo\n",
    "from scipy.optimize import minimize\n",
    "\n",
    "# Pick a process and measurement noise as a goal --> then use that as \"real\" data\n",
    "PROCESS_NOISE = 1.8\n",
    "MEASUREMENT_NOISE = 0.4\n",
    "\n",
    "m = ThrownObject(process_noise=PROCESS_NOISE, measurement_noise=MEASUREMENT_NOISE)\n",
    "initial_state = m.initialize()\n",
    "\n",
    "simulated_results = m.simulate_to(8, save_freq=1)\n",
    "\n",
    "times = simulated_results.times\n",
    "inputs = simulated_results.inputs\n",
    "outputs = simulated_results.outputs\n",
    "\n",
    "def future_loading(t, x=None):\n",
    "    return {}\n",
    "\n",
    "STEP_SIZE = 1\n",
    "NUM_SAMPLES = 100\n",
    "PREDICTION_HORIZON = times[-1]\n",
    "SAVE_FREQ = 1\n",
    "\n",
    "og_mc = MonteCarlo(m)\n",
    "og_mc_results = og_mc.predict(initial_state, future_loading, dt=STEP_SIZE, horizon=PREDICTION_HORIZON, save_freq=SAVE_FREQ, n_samples=NUM_SAMPLES)"
   ]
  },
  {
   "cell_type": "code",
   "execution_count": null,
   "metadata": {},
   "outputs": [],
   "source": [
    "# Like estimate_params\n",
    "PROCESS_NOISE_GUESS = 3\n",
    "MEASUREMENT_NOISE_GUESS = 2\n",
    "\n",
    "m = ThrownObject(process_noise=PROCESS_NOISE_GUESS, measurement_noise=MEASUREMENT_NOISE_GUESS)\n",
    "initial_state = m.initialize()\n",
    "\n",
    "mc = MonteCarlo(m)\n",
    "mc_results = mc.predict(initial_state, future_loading, dt=STEP_SIZE, horizon=PREDICTION_HORIZON, save_freq=SAVE_FREQ, n_samples=NUM_SAMPLES)\n",
    "mc_results.states"
   ]
  },
  {
   "cell_type": "code",
   "execution_count": null,
   "metadata": {},
   "outputs": [],
   "source": [
    "# TODO: Put a solo color lighter alpha. Also plot the average real data and that distribution.\n",
    "\n",
    "for i in range(NUM_SAMPLES):\n",
    "    data_pos = [state['x'] for state in mc_results.states[i]]\n",
    "    plt.plot(mc_results.times[:len(data_pos)], data_pos)\n",
    "\n",
    "# Plot model with no noise\n",
    "m = ThrownObject(process_noise=0, measurement_noise=0)\n",
    "simulated_results = m.simulate_to(times[-1], save_freq=1)\n",
    "no_noise_pos = [state['x'] for state in simulated_results.outputs]\n",
    "plt.plot(times, no_noise_pos, color=\"black\", linestyle=\"--\", label=\"No noise simulation\")\n",
    "\n",
    "# Plot real data --> TODO: show mean\n",
    "pos = [state['x'] for state in outputs]\n",
    "plt.plot(times, pos, color=\"blue\", linestyle=\"--\", label=\"Real data\")\n",
    "\n",
    "# Plot MC simulation mean\n",
    "mc_mean_pos = [state['x'] for state in mc_results.states.mean]\n",
    "plt.plot(times, mc_mean_pos, color=\"red\", linestyle=\"--\", label=\"Mean MC simulation\")\n",
    "\n",
    "error = np.mean((np.array(pos) - np.array(mc_mean_pos))**2)\n",
    "print(\"MSE error: \", error)\n",
    "\n",
    "plt.legend()\n",
    "plt.title(\"Monte Carlo simulation for one noise value of Thrown Object\")\n",
    "plt.xlabel(\"Time (s)\")\n",
    "plt.ylabel(\"Position (m)\")\n",
    "plt.show()"
   ]
  },
  {
   "cell_type": "markdown",
   "metadata": {},
   "source": [
    "## Distrbutions from Brute Force Approach\n",
    "- At one time step (like the last one of 8 or let's say 6), get the distribution and compare to the data (which is also a distribution and compare that - get the error value between them and use that to optimize)\n",
    "- With other noise values (like 5 or 10% below or above optimized number), see how sensitivity changes (mean and variance) after the optimization\n",
    "   - Helps user understand how precise they need to be with noise number"
   ]
  },
  {
   "cell_type": "code",
   "execution_count": null,
   "metadata": {},
   "outputs": [],
   "source": [
    "# Guess noise distrbution at time step 6\n",
    "dist = []\n",
    "for i in mc_results.states:\n",
    "    dist.append(i[5]['x'])\n",
    "\n",
    "# OG Distrbution at time step 6\n",
    "og_dist = []\n",
    "for i in og_mc_results.states:\n",
    "    og_dist.append(i[5]['x'])\n",
    "\n",
    "fig, axes = plt.subplots(1, 2, figsize=(12, 6))\n",
    "\n",
    "axes[0].hist(og_dist)\n",
    "axes[1].hist(dist, color=\"tab:orange\")\n",
    "\n",
    "axes[0].set_title(\"OG distribution\")\n",
    "axes[0].set_xlabel(\"Position (m)\")\n",
    "axes[0].set_ylabel(\"Count\")\n",
    "\n",
    "axes[1].set_title(\"Guess distribution\")\n",
    "axes[1].set_xlabel(\"Position (m)\")\n",
    "axes[1].set_ylabel(\"Count\")\n",
    "\n",
    "fig.suptitle(\"Monte Carlo simulations at time step 6\")\n",
    "plt.tight_layout()\n",
    "plt.show()"
   ]
  },
  {
   "cell_type": "code",
   "execution_count": null,
   "metadata": {},
   "outputs": [],
   "source": [
    "# Calculate errors\n",
    "\n",
    "# TODO: calculate mean and std and minimize the difference between real data and monte carlo\n",
    "# Could possibly specify the frequency at which we compare (like a eval freq) instead of doing at every time step (could also investigate\n",
    "# coarse to fine optimization section)\n",
    "\n",
    "# TODO 2: look at other measures of distributional similarity - see link in chat\n",
    "\n",
    "import numpy as np\n",
    "\n",
    "og_arr = np.array(og_dist)\n",
    "arr = np.array(dist)\n",
    "\n",
    "# 1. Mean Squared Error (MSE)\n",
    "mse = np.mean((og_arr - arr) ** 2)\n",
    "\n",
    "# 2. Mean Absolute Error (MAE)\n",
    "mae = np.mean(np.abs(og_arr - arr))\n",
    "\n",
    "# 3. Euclidean Distance\n",
    "euclidean_distance = np.sqrt(np.sum((og_arr - arr) ** 2))\n",
    "\n",
    "# Print the results\n",
    "print(f\"Mean Squared Error (MSE): {mse}\")\n",
    "print(f\"Mean Absolute Error (MAE): {mae}\")\n",
    "print(f\"Euclidean Distance: {euclidean_distance}\")\n"
   ]
  },
  {
   "cell_type": "code",
   "execution_count": null,
   "metadata": {},
   "outputs": [],
   "source": [
    "# def optimization_fcn(params):\n",
    "#     error = np.mean((og_arr - arr) ** 2)\n",
    "#     print(f\"Error: {error}, PROCESS_NOISE_GUESS: {PROCESS_NOISE_GUESS}, MEASUREMENT_NOISE_GUESS: {MEASUREMENT_NOISE_GUESS}\")\n",
    "\n",
    "#     return error\n",
    "\n",
    "# initial_guess = [PROCESS_NOISE_GUESS, MEASUREMENT_NOISE_GUESS]\n",
    "# res = minimize(optimization_fcn, initial_guess, bounds=((0, 1), (0, 1)))\n",
    "\n",
    "# if res.success:\n",
    "#     print(\"Optimization converged successfully.\")\n",
    "# else:\n",
    "#     print(\"Optimization did not converge.\")\n",
    "\n",
    "# print(\"Optimized process noise: \", res.x[0])\n",
    "# print(\"Optimized measurement noise: \", res.x[1])\n"
   ]
  },
  {
   "cell_type": "markdown",
   "metadata": {},
   "source": [
    "## Coarse to fine optimization\n",
    "- Running a few samples (either running 15 mc simulations or running to time 2 seconds)\n",
    "- Measure runtime, computational power, accuracy of results (since we know our actual noise values since we made the data)"
   ]
  },
  {
   "cell_type": "code",
   "execution_count": null,
   "metadata": {},
   "outputs": [],
   "source": []
  }
 ],
 "metadata": {
  "kernelspec": {
   "display_name": ".venv",
   "language": "python",
   "name": "python3"
  },
  "language_info": {
   "codemirror_mode": {
    "name": "ipython",
    "version": 3
   },
   "file_extension": ".py",
   "mimetype": "text/x-python",
   "name": "python",
   "nbconvert_exporter": "python",
   "pygments_lexer": "ipython3",
   "version": "3.12.9"
  }
 },
 "nbformat": 4,
 "nbformat_minor": 2
}
