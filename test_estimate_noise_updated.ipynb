{
 "cells": [
  {
   "cell_type": "markdown",
   "metadata": {},
   "source": [
    "## Updated Noise Estimation Brute Force\n",
    "\n",
    "For a single noise value, have multiple simulations for that and that will show the distribution of possible values at that noise level\n",
    "-  Note that each noise value samples from a distribution already, and the same noise value is going to have different results each time due to this\n",
    "- Use MonteCarlo from monte_carlo.py\n",
    "- In 2024PHMTutorial, see monte_carlo example\n",
    "\n",
    "### Next steps\n",
    "- Optimize the noise to get closer to exact"
   ]
  },
  {
   "cell_type": "code",
   "execution_count": null,
   "metadata": {},
   "outputs": [],
   "source": [
    "from progpy.models import ThrownObject\n",
    "import numpy as np\n",
    "import matplotlib.pyplot as plt\n",
    "from progpy.predictors import MonteCarlo\n",
    "from scipy.optimize import minimize\n",
    "\n",
    "# Pick a process and measurement noise as a goal --> then use that as \"real\" data\n",
    "PROCESS_NOISE = 1.8\n",
    "MEASUREMENT_NOISE = 0.4\n",
    "\n",
    "m = ThrownObject(process_noise=PROCESS_NOISE, measurement_noise=MEASUREMENT_NOISE)\n",
    "simulated_results = m.simulate_to(8, save_freq=1)\n",
    "\n",
    "times = simulated_results.times\n",
    "inputs = simulated_results.inputs\n",
    "outputs = simulated_results.outputs\n",
    "\n",
    "# Like estimate_params\n",
    "PROCESS_NOISE_GUESS = 3\n",
    "MEASUREMENT_NOISE_GUESS = 2\n",
    "\n",
    "m = ThrownObject(process_noise=PROCESS_NOISE_GUESS, measurement_noise=MEASUREMENT_NOISE_GUESS)\n",
    "initial_state = m.initialize()\n",
    "\n",
    "# MC simulations\n",
    "def future_loading(t, x=None):\n",
    "    return {}\n",
    "\n",
    "STEP_SIZE = 1\n",
    "NUM_SAMPLES = 100\n",
    "PREDICTION_HORIZON = times[-1]\n",
    "SAVE_FREQ = 1\n",
    "\n",
    "mc = MonteCarlo(m)\n",
    "mc_results = mc.predict(initial_state, future_loading, dt=STEP_SIZE, horizon=PREDICTION_HORIZON, save_freq=SAVE_FREQ, n_samples=NUM_SAMPLES)\n",
    "mc_results.states"
   ]
  },
  {
   "cell_type": "code",
   "execution_count": null,
   "metadata": {},
   "outputs": [],
   "source": [
    "for i in range(NUM_SAMPLES):\n",
    "    data_pos = [state['x'] for state in mc_results.states[i]]\n",
    "    plt.plot(mc_results.times[:len(data_pos)], data_pos)\n",
    "\n",
    "# Plot model with no noise\n",
    "m = ThrownObject(process_noise=0, measurement_noise=0)\n",
    "simulated_results = m.simulate_to(times[-1], save_freq=1)\n",
    "no_noise_pos = [state['x'] for state in simulated_results.outputs]\n",
    "plt.plot(times, no_noise_pos, color=\"black\", linestyle=\"--\", label=\"No noise simulation\")\n",
    "\n",
    "# Plot real data\n",
    "pos = [state['x'] for state in outputs]\n",
    "plt.plot(times, pos, color=\"blue\", linestyle=\"--\", label=\"Real data\")\n",
    "\n",
    "# Plot MC simulation mean\n",
    "mc_mean_pos = [state['x'] for state in mc_results.states.mean]\n",
    "plt.plot(times, mc_mean_pos, color=\"red\", linestyle=\"--\", label=\"Mean MC simulation\")\n",
    "\n",
    "error = np.mean((np.array(pos) - np.array(mc_mean_pos))**2)\n",
    "print(\"MSE error: \", error)\n",
    "\n",
    "plt.legend()\n",
    "plt.title(\"Monte Carlo Simulation for one noise value of Thrown Object\")\n",
    "plt.xlabel(\"Time (s)\")\n",
    "plt.ylabel(\"Position (m)\")\n",
    "plt.show()"
   ]
  },
  {
   "cell_type": "code",
   "execution_count": null,
   "metadata": {},
   "outputs": [],
   "source": [
    "mc_results.states.mean"
   ]
  },
  {
   "cell_type": "markdown",
   "metadata": {},
   "source": [
    "How to optimize since there's so many simulations for only one process noise / measurement noise value?"
   ]
  },
  {
   "cell_type": "code",
   "execution_count": null,
   "metadata": {},
   "outputs": [],
   "source": [
    "# pos = [state['x'] for state in outputs]\n",
    "\n",
    "# def optimization_fcn(params):\n",
    "#     PROCESS_NOISE_GUESS = params[0]\n",
    "#     MEASUREMENT_NOISE_GUESS = params[1]\n",
    "\n",
    "#     m = ThrownObject(process_noise=PROCESS_NOISE_GUESS, measurement_noise=MEASUREMENT_NOISE_GUESS)\n",
    "#     initial_state = m.initialize()\n",
    "\n",
    "#     # MC simulations\n",
    "#     def future_loading(t, x=None):\n",
    "#         return {}\n",
    "\n",
    "#     STEP_SIZE = 1\n",
    "#     NUM_SAMPLES = 100\n",
    "#     PREDICTION_HORIZON = times[-1]\n",
    "#     SAVE_FREQ = 1\n",
    "\n",
    "#     mc = MonteCarlo(m)\n",
    "#     mc_results = mc.predict(initial_state, future_loading, dt=STEP_SIZE, horizon=PREDICTION_HORIZON, save_freq=SAVE_FREQ, n_samples=NUM_SAMPLES)\n",
    "#     mc_mean_pos = [state['x'] for state in mc_results.states.mean]\n",
    "\n",
    "#     error = np.mean((np.array(pos) - np.array(mc_mean_pos))**2)\n",
    "#     print(f\"Error: {error}, PROCESS_NOISE_GUESS: {PROCESS_NOISE_GUESS}, MEASUREMENT_NOISE_GUESS: {MEASUREMENT_NOISE_GUESS}\")\n",
    "\n",
    "#     return error\n",
    "\n",
    "# initial_guess = [1.3, 1.3]\n",
    "# res = minimize(optimization_fcn, initial_guess, bounds=((0, 3), (0, 3)))\n",
    "\n",
    "# if res.success:\n",
    "#     print(\"Optimization converged successfully.\")\n",
    "# else:\n",
    "#     print(\"Optimization did not converge.\")\n",
    "\n",
    "# optimized_process_noise = res.x[0]\n",
    "# optimized_measurement_noise = res.x[1]\n",
    "# print(\"Optimized process noise: \", optimized_process_noise)\n",
    "# print(\"Optimized measurement noise: \", optimized_measurement_noise)"
   ]
  }
 ],
 "metadata": {
  "kernelspec": {
   "display_name": ".venv",
   "language": "python",
   "name": "python3"
  },
  "language_info": {
   "codemirror_mode": {
    "name": "ipython",
    "version": 3
   },
   "file_extension": ".py",
   "mimetype": "text/x-python",
   "name": "python",
   "nbconvert_exporter": "python",
   "pygments_lexer": "ipython3",
   "version": "3.12.9"
  }
 },
 "nbformat": 4,
 "nbformat_minor": 2
}
